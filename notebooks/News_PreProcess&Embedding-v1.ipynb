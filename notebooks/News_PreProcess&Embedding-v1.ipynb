{
 "cells": [
  {
   "cell_type": "markdown",
   "id": "ad56a98c-f360-4020-a611-523bd4093b00",
   "metadata": {},
   "source": [
    "## Turkish News"
   ]
  },
  {
   "cell_type": "markdown",
   "id": "41f29147-546d-4c44-ab4e-f30aee32138f",
   "metadata": {},
   "source": [
    "### Dataset Preprocessing"
   ]
  },
  {
   "cell_type": "code",
   "execution_count": 1,
   "id": "81b4059f-f0d9-4d6b-9b20-5a3a26f51932",
   "metadata": {},
   "outputs": [
    {
     "name": "stderr",
     "output_type": "stream",
     "text": [
      "C:\\Users\\adem\\miniconda3\\envs\\py_env_312\\Lib\\site-packages\\tqdm\\auto.py:21: TqdmWarning: IProgress not found. Please update jupyter and ipywidgets. See https://ipywidgets.readthedocs.io/en/stable/user_install.html\n",
      "  from .autonotebook import tqdm as notebook_tqdm\n"
     ]
    }
   ],
   "source": [
    "import os\n",
    "import pandas as pd\n",
    "import numpy as np\n",
    "from datasets import load_dataset\n",
    "\n",
    "from src.utils import get_project_config\n",
    "from src.utils import missing_values\n",
    "import time\n",
    "from datetime import datetime\n",
    "import warnings\n",
    "\n",
    "# import matplotlib.pyplot as plt\n",
    "# import seaborn"
   ]
  },
  {
   "cell_type": "code",
   "execution_count": 2,
   "id": "e29b7b66-819d-4e25-9797-1dab14adf6e6",
   "metadata": {},
   "outputs": [],
   "source": [
    "pd.set_option('display.max_columns', None)\n",
    "pd.set_option('max_colwidth', None)\n",
    "\n",
    "warnings.filterwarnings('ignore')"
   ]
  },
  {
   "cell_type": "markdown",
   "id": "c810a5ef-9d42-4fe2-b082-3d70134d265a",
   "metadata": {},
   "source": [
    "#### Set Path and Constant Values"
   ]
  },
  {
   "cell_type": "code",
   "execution_count": 3,
   "id": "ba1dee44-3cc8-4c8f-b284-4a89a0c0062a",
   "metadata": {},
   "outputs": [],
   "source": [
    "# Set Constants\n",
    "ROOT_PATH = os.getcwd()\n",
    "CFG_PATH = os.path.join(ROOT_PATH, 'cfg')\n",
    "DATA_PATH = os.path.join(ROOT_PATH, 'data')\n",
    "RAW_DATA_PATH = os.path.join(DATA_PATH, 'raw')\n",
    "EMBEDDING_DATA_PATH = os.path.join(DATA_PATH, 'embedding')\n",
    "\n",
    "os.makedirs(RAW_DATA_PATH, exist_ok=True)\n",
    "os.makedirs(EMBEDDING_DATA_PATH, exist_ok=True)"
   ]
  },
  {
   "cell_type": "markdown",
   "id": "c6d0d10f-e47a-4d2a-b410-0b48dab68997",
   "metadata": {},
   "source": [
    "### Import Dataset: TR News Datasets"
   ]
  },
  {
   "cell_type": "code",
   "execution_count": 4,
   "id": "ab7c8410-4304-491e-b406-2f6c0aa751d7",
   "metadata": {},
   "outputs": [
    {
     "data": {
      "text/html": [
       "<div>\n",
       "<style scoped>\n",
       "    .dataframe tbody tr th:only-of-type {\n",
       "        vertical-align: middle;\n",
       "    }\n",
       "\n",
       "    .dataframe tbody tr th {\n",
       "        vertical-align: top;\n",
       "    }\n",
       "\n",
       "    .dataframe thead th {\n",
       "        text-align: right;\n",
       "    }\n",
       "</style>\n",
       "<table border=\"1\" class=\"dataframe\">\n",
       "  <thead>\n",
       "    <tr style=\"text-align: right;\">\n",
       "      <th></th>\n",
       "      <th>Baslik</th>\n",
       "      <th>Ozet</th>\n",
       "      <th>Icerik</th>\n",
       "      <th>Kategori</th>\n",
       "    </tr>\n",
       "  </thead>\n",
       "  <tbody>\n",
       "    <tr>\n",
       "      <th>0</th>\n",
       "      <td>Aksaray’dan Buckingham Sarayı’na</td>\n",
       "      <td>Buckingham Sarayı’ndan, Atatürk’ün özel koleksiyonuna kadar kıymetli birçok halı Aksaray’ın Sultanhanı ilçesinde tamir ediliyor. Ünü ülke sınırlarını aşan ilçe, halı tamiri işinde dünyanın en gözde adresi...</td>\n",
       "      <td>Dünyanın bilinen en eski halısı Türklere ait bir Hun halısı. Altay'ın Pazırık bölgesinde keşfedilen bu halı M.Ö. 4.- 5. yüzyıla tarihleniyor. Söz konusu keşif, Türklerin halıcılıktaki köklü geçmişine ve sürekliliğine dikkat çekmekte… Halı dokumacılığını kadın erkek ayrımı olmadan yüzyıllardır yapan Türkler, her ilmekle aşkını, ruhunu, hasretini, umudunu işliyor. Her biri dokuyanının elinde eşsizleşiyor. Anadolu’nun her bölgesi karakteristik birçok halıya sahip. Her bölgenin halısı kendi içinde bir kompozisyon, bir hikaye barındırmakta. Taşpınar Halısı, Yağcıbedir Halısı, Milas Halısı, Uşak halısı, Bergama halısı, Türkmen halısı, Gördes halısı, Döşemealtı halısı ve daha nicesi… Birçok müzede, ve bir çok ünlü ressamın tablosunda kendine yer bulan bu kıymetli halılar, motifinde, renginde Türk kültürünü taşıyor.    Halı dokumada dünyanın otorite milletlerinden biri olan Türkler, doğal olarak halı tamirciliğinde de önemli bir noktada. Dünyada halı tamiri işini Aksaray’ın Sultanhanı ilçesi domine ediyor. Dünyanın en büyük kervansaraylarından birine ev sahipliği yapan Sultanhanı ilçesinde halılar orijinallerine uygun bir şekilde onarılıyor. Sultanhanı’nın birçok sokağında küçüklü büyüklü halı tamir atölyeleri mevcut. Bölge halkının üçte biri halı tamir atölyelerinde çalışıyor. Bu atölyelerin içi sıcacık bir ev ortamı gibi. Herkes halısını köşesinde çayını yudumlayarak bazen sessizce, bazen sohbet ederek, bazen de türküler dinleyerek ilmek ilmek dokuyor, boyuyor, kesiyor ve hiç eskimemiş gibi hayata kazandırıyor…    “Zanaatkarlık görünmez olmanın mesleğidir” Yazar ve Saat Tamircisi Şule Gürbüz, tamircilik mesleği “Mistik bir iştir, görünmez olmanın mesleğidir” diyor… “Her usta aslında bir şeyleri tamir etmeye talip olmuş bir kimsedir. Yapmaya değil. Sanatçı ile zanaatkarın arasındaki en temel fark bu. Birisi yapmak ortaya koymak, yaptığı ile anılmak arzusundaki daha kötü manada demiyorum ama egonun öne çıktığı bir iş iken, zanaatkar bir başkasının yaptığına sanki hiç zarar ve bir halel gelmemiş gibi onu kendi kimliği, kisvesi, yaptığı iş belli olmazcasına gizleyerek, kendi elinin izlerini yok ederek bir yaptığıyla adımlarını da silen bir kimsedir. Daha mistik bir iştir bu nedenle de zanaatkarlık görünmez olmanın mesleğidir.” “Anadolu o kadar zengin ki her şehrin, her ilçenin, her beldenin, her köyün, rengi farklı” Sultanhanı Belediye Başkanı Fahri Solak da bir halı tamir ustası. Bölgenin halı tamiratındaki konumunun yüzyıllara dayanan bir geçmişin sonucu olduğunu söylüyor.   “Anadolu o kadar zengin ki her şehrin, her ilçenin, her beldenin, her köyün, rengi farklı. Aksaray bölgesinde çok ünlü halılar var, hatta İbn Battuta kitabında, 13. yüzyılda Aksaray’ı tanımlarken ‘Aksaray’da koyun yününden halılar dokunurdu ve bu halılar Çin’e İran’a kadar ihraç olurdu’ diyor.” Sultanhanı’nın kiliminin desen özelliklerini Sultanhanı Kervansarayı’nın taç kapısından aldığını söyleyen Fahri Solak, halı tamirciliğinin ilçede nasıl yaygınlaştığını anlattı. “1970’lerden sonra İstanbul’da büyüklerimiz halı restorasyon işine giriyor. Yani yamalık dediğimiz basit usullerle restorasyona başlıyor. Daha sonra Sultanhanı’na 1980’lerin başında halı tamir atölyeleri açılıyor. Sultanhanı ilçemizde şu anda büyüklü küçüklü 50’ye yakın halı restorasyon merkezi vardır.” “Sultanhanılı ustalarımız dünyada halı restorasyonu işinde bir numaradır” Amerika Birleşik Devletleri'nde halı koleksiyonerlerinin, müzelerin Sultanhanı’nda bu mesleğin olduğunu çok iyi bildiğini söylüyor Solak “Avrupa’da da aynı şekilde bu mesleğin Aksaray’ın Sultanhanı ilçesinde yapıldığını hepsi bilir. Biz bu mesleği daha ileriye götürdük. Sultanhanılı ustalarımız dünyada halı restorasyonu işinde bir numaradır. İpek yolunda olduğumuzdan dolayı Sultanhanılı ustalar hem Fransız kilimlerini çok iyi restore edebiliyor, goblen tarzı dediğimiz halıları da, İran halısını da, Türk Anadolu halılarını da en güzel şekilde restore ediyor. Şöyle düşünün 17. Yüzyıl bir Türk halısı var ve biz o halıyı restore ederken yeni yün kullanmıyoruz, kullanılmayacak derecede kilimler alıp onların yününü tekrar hayata geçirerek onları kullanıyoruz. O da bizim restorasyon kalitemizi artırıyor.” “Atatürk’ün mirası olan halılar Sultanhanılı ustalar tarafından restore edildi” Sultanhanı nüfusunun en az üçte biri halı restorasyon işinde. Londra Buckingham Sarayı’nın halıları da Sultanhanı’nda restore edildi. Ancak sadece eski halılar tamir edilmiyor Sultanhanı’nda… Aynı zamanda çok ünlü yerlerin şatoların, sarayların yeni sipariş halıları da burada dokunuyor.   Belediye başkanı Solak Atatürk’e ait halılar da tamir ettiklerini sölüyor. “Sultanhanılı ustalarımız çok önemli yerlerin hem halılarını dokudu, hem de oranın eserleri ilçemizde restore edildi. Londra Buckingham Sarayı’nın halıları da Sultanhanılı ustalar tarafından restore edildi. Dolmabahçe Sarayı’nın halıları, Atatürk’ün mirası, kendi koleksiyonu olan 57’ye varan halı da dahil olmak üzere hepsi Sultanhanılı ustalar tarafından restore edildi.” “Halı dokurken tarihe gidiyorum”  Halı Tamir Ustası İbrahim Kürkçü, halı dokurken tarihe gittiğine vurgu yapıyor. “Deşarj oluyorsun, bu halıdaki yaşanmışlıkları hatırlıyorsun. İnsan düşündükçe yapılan emekleri, ne için neyin dokunduğunu, emekleri hatırlıyor. Böyle insan tarihe gidiyor. O zevki alıyorsun, yıllar öncesine gidiyorsun.” Çocukluk yaşlarında bu mesleğe girdiğini söyleyen Kürkçü, sözlerini şöyle sürdürdü: “Çocukluk yıllarımda halıcılık mesleğine tamirci olarak başladım. 10-12 yıl bu mesleği yaptıktan sonra, farklı bir sektörde tarım sektöründe çalışmaya başladım. Sonra bu halıya olan özlemim hiç bitmedi. Yıllar geçse de ayrı bir zevk ve şevkle bakıyordum halıya. Çünkü tarih vardı, sonuçta bir emek vardı. Bu halıdan kopamadım. 10-12 yıl sonra tekrar bu mesleğe hobi olarak; sevdiğim halıları, yöredeki değişik halıları toplayarak böyle bir mekan açmaya karar verdim. Amacımız yıllar önce dokunan halıları insanlara tanıtmak, kültürü gelecek nesillere aktarmak.” Elimdeki bu halı da Çin ipek halısı  Geçimini halı tamirciliğinden sağlayan İsmail Konukçu, halıyı nasıl tamir ettiklerini anlatıyor. “Yurtdışından bize gelen halılar oluyor, eski halılar. Tamirlerini, yıkamasını, çekimini yapıp tekrar yurtdışına gönderiyorum. Elimdeki bu halı da Çin ipek halısı. Yaklaşık 200 yıllık. Bize tamir için geldi. İpekten, boyuyoruz, eskitiyoruz biraz da iplerini, sonrada tamirini yapıyoruz. Havlarını değiştiriyoruz, Eksik olan yerlerini tamamlıyoruz. Sonra kesimi oluyor, kesimini yapıyoruz, kesiminden sonra ütüsünü yıkamasını yaptıktan sonra tekrar yurtdışına gönderiyoruz.” “Bu işi yaptığım zaman bir hastayı hayata geçirmiş gibi hissediyorum”  Halı Tamir Ustası Mahmut Ağır ise yaptığı işi doktorun hastasını iyileştirmesine benzeterek “Doktora gidiyoruz, hastayız. Doktor bize ilaç veriyor, iyi oluyoruz değil mi? Kendimizi iyi hissediyoruz. Aynı öyle. Bu işi yaptığımız zaman bir hastayı hayata geçirmiş gibi yani mesela bir hasta iyi olmuş bizimle beraber aynı yola çıkmış gibi Mesela bitmiş, çürümüş, atılmamış değil ama hayata geri katılmış yani güncel hayatımıza geri gelmiş, kullanılabiliyor. Veya bir katalogda gördüğün zaman hoşuna gidiyor bu halıyı ben yapmıştım diyorsun diye konuştu. Bazı meslekler var ki hayatta büyük bir görünmezlikle, sessizlikle yol alıyor. Halı tamirciliği de bu mesleklerden biri. İnsanların “görünür” olmak için çabaladığı , adeta gürültü furyasına dönüşen bu çağda, görünmez olmak ve heybetli bir sessizlikle dünyaya ilmek ilmek yayılmak… Sultanhanılı ustaların yaptığı iş tam olarak bu. Dünyada müzelerin ve halı koleksiyonerlerinin yakından tanıdığı Sultanhanılı halı tamir ustaları, büyük şatoların, sarayların, köşklerin halılarını küçük atölyelerinde bir çok duygunun gölgesinde sabırla onarmaya devam ediyor.</td>\n",
       "      <td>Yaşam</td>\n",
       "    </tr>\n",
       "    <tr>\n",
       "      <th>1</th>\n",
       "      <td>Malatya'da trafik kazasında 1 çocuk öldü, 2 kişi yaralandı</td>\n",
       "      <td>Malatya'da trambüse çarpan hafif ticari araçtaki 3 yaşındaki çocuk öldü, 2 kişi yaralandı.</td>\n",
       "      <td>B.E. idaresindeki hafif ticari araç, Malatya-Elazığ kara yolunda Battalgazi ilçesine bağlı Çamurlu Mahallesi mevkisinde, M.A'nın kullandığı trambüse arkadan çarptı. Kazada yaralanan B.E, A.Y.D ile 3 yaşındaki Furkan Eser, ambulansla İnönü Üniversitesi Turgut Özal Tıp Merkezi Eğitim ve Araştırma Hastanesi'ne kaldırıldı. Yaralılardan Furkan Eser, müdahalelere rağmen kurtarılamadı.</td>\n",
       "      <td>Türkiye</td>\n",
       "    </tr>\n",
       "    <tr>\n",
       "      <th>2</th>\n",
       "      <td>\"Kozmik oda kumpas\" davasında cezalara onama</td>\n",
       "      <td>Yargıtay Ceza Genel Kurulu, Ankara Seferberlik Bölge Başkanlığının \"kozmik odaları\"nda günlerce süren aramalarla devam eden soruşturmada görev alan hakim ve savcılara verilen cezaları onadı.</td>\n",
       "      <td>Kurul, ilk derece mahkemesi sıfatıyla Yargıtay 16. Ceza Dairesince görülen ve 25 Nisan 2019'da karara bağlanan davaya ilişkin temyiz incelemesini tamamladı. Buna göre, kozmik odada arama yaptıran eski savcı Mustafa Bilgili'ye Fetullahçı Terör Örgütü (FETÖ) kapsamında silahlı terör örgütüne üye olmak suçundan verilen 11 yıl 3 ay ve devletin güvenliğine ve siyasal yararlarına ilişkin bilgileri temin etmek suçundan verilen 5 yıl 10 ay hapis cezaları onandı. Bilgili hakkında, devlet sırrına ilişkin bilgileri aynı suçtan başka davada yargılanan eski TÜBİTAK çalışanı Ünal Tatar'a vermek suretiyle devletin güvenliğine ve siyasal yararlarına ilişkin bilgileri casusluk amacıyla açıklamak suçundan açılan kamu davasının ayrılması kararı da uygun bulundu. Kozmik odaya ilişkin soruşturma kapsamında bazı kararlar veren eski hakim Halil İbrahim Kütük'e silahlı terör örgütüne üye olmak suçundan verilen 8 yıl 9 ay hapis cezası ile devletin güvenliğine ve siyasal yararlarına ilişkin bilgileri temin etmek suçundan verilen 3 yıl 4 ay hapis cezası onandı. Eski hakim Nihal Uslu'ya silahlı terör örgütüne üye olmak suçundan verilen 9 yıl ile devletin güvenliğine ve siyasal yararlarına ilişkin bilgileri temin etmek suçundan verilen 5 yıl hapis cezası da onandı. Yargıtay Ceza Genel Kurulu, kozmik odadaki aramalara katılan eski hakim Kadir Kayan'ın da aralarında olduğu firari sanıklar hakkında verilen dosyaların ayrılması yönündeki kararları uygun buldu. Kurul tarafından oy birliğiyle verilen kararın gerekçesi daha sonra yazılacak. Devlet sırrı niteliğindeki belgeler ele geçirilmişti Genelkurmay Başkanlığının tüm itirazlarına rağmen Genelkurmay Ankara Seferberlik Bölge Başkanlığının kozmik oda olarak bilinen kısımlarında 20 gün boyunca yapılan aramaların ayrıntıları, çeşitli kurumların raporlarıyla ortaya çıkmıştı. Yargıtay 16. Ceza Dairesindeki yargılamalar sırasında verilen ara karar gereği Genelkurmay Adli Müşavirliğince gönderilen raporla, aramalarda TSK'nın devlet sırrı niteliğindeki belgelerinin ele geçirildiği tescillenmişti. Raporda, davaya konu belgelerden, incelenen 374 dijital veri ve 7 fiziki belgenin dördünün oluşturulduğu tarihten itibaren devlet sırrı niteliği taşımadığı, bunlar dışında kalan diğer tüm belgelerin başlangıcından itibaren devlet sırrı olduğu ve bu özelliklerini halen koruduğu belirtilmişti. Raporda, Devlet sırrı olduğu belirtilen bir kısım belgelerin, düşman ülkeye savaş hazırlıklarımızı, savaş etkinliğimizi ve çalışma prensiplerimizi ortaya koyabilecek nitelikte bilgiler içerdiği anlaşılmıştır. tespiti yer almıştı. Kozmik odada ne olmuştu? Bülent Arınç'a suikast düzenleneceği yönündeki telefon ihbarı sonucu konuyla ilgili soruşturma başlatan dönemin Ankara Cumhuriyet Savcısı Mustafa Bilgili, Genelkurmay Ankara Seferberlik Bölge Başkanlığı 11 ve 16 numaralı odalarda 25 Aralık 2009'da arama yapmak istedi. Genelkurmay Seferberlik Tetkik Dairesi Başkanlığı ise 11 ve 16 numaralı çift kilitli çelik kapılarla muhafaza edilen odalardaki bilgi, belge ve arşiv kayıtlarının devlet sırrı niteliğinde, devletin güvenliğiyle ilgili olduğundan Ceza Muhakemesi Kanunu'nun 125. maddesi gereği cumhuriyet savcılığına bu odalara giriş izni verilemeyeceğini yazıyla belirtmişti. Bunun üzerine, Bilgili yerine dönemin Ankara 11. Ağır Ceza Mahkemesi Hakimi Kadir Kayan, 26 Aralık 2009'da 11 ve 16 numaralı odalarda arama yapmaya başladı. Kayan'ın 20 gün süren araması sonucu CD, dosya ve harddisklerden oluşan gizli belgeler dışarı çıkarılarak, bugün FETÖ ile bağlantılı oldukları tespit edilen TÜBİTAK uzmanı bilirkişilere çözümletildi. Genelkurmay Başkanlığının o günlerde tuttuğu tutanaklarda, odalardaki belge ve arşiv kayıtlarının, devlet sırrı niteliğinde olduğunun belirtilmesine rağmen arandığı ifade edilerek, Hakim Kadir Kayan tarafından bugüne kadar yapılan incelemelerde 1970'li yıllardan günümüze kadar yüklenen suçla ilgisi olmayan devlet sırrı niteliğindeki tüm bilgilere nüfuz edilmiştir. denilmişti. Bu aramanın ardından Yargıtay üyesi yapılan Kadir Kayan, FETÖ'nün 15 Temmuz darbe girişiminden bu yana firari durumda bulunuyor.</td>\n",
       "      <td>Gündem</td>\n",
       "    </tr>\n",
       "    <tr>\n",
       "      <th>3</th>\n",
       "      <td>Antalya Doğu Garajı'ndaki nekropol alanı müze olacak</td>\n",
       "      <td>Antalya Doğu Garajı Kültür Merkezi inşaatı için başlatılan kazı çalışmalarında ortaya çıkan 2 bin 500 yıllık nekropol alanı müze olarak hizmet verecek.</td>\n",
       "      <td>Doğu Garajı Nekropol Alanı Projesi tamamlandı. Antalya Müze Müdürlüğü denetiminde, Büyükşehir Belediyesi desteğiyle yapılan kazı çalışmalarında 866 adet ana kayaya yapılmış mezar ortaya çıkarıldı. Toplam 9 bin 136 metrekarelik bir alanda yürütülen projede nekropol alanın çatısı çelik konstrüksiyonla örtüldü. Alandaki arkeolojik buluntuların yağmur ve güneş ışınlarından korunması için çatıda yalıtım ve izolasyon işlemi gerçekleştirildi. Tarihi mezar alanlarını yakından görebilme imkanı sunacak yürüyüş yolları da tamamlandı.</td>\n",
       "      <td>Kültür-Sanat</td>\n",
       "    </tr>\n",
       "    <tr>\n",
       "      <th>4</th>\n",
       "      <td>SBÜ'de Jandarma adına eğitim görecek adayların sınav sonuçları açıklandı</td>\n",
       "      <td>Sağlık Bilimleri Üniversitesinde (SBÜ), Jandarma Genel Komutanlığı nam ve hesabına öğrenim görecek adayların sınav sonuçları açıklandı.</td>\n",
       "      <td>Jandarma ve Sahil Güvenlik Akademisinden yapılan açıklamaya göre, Sağlık Bilimleri Üniversitesinde, Jandarma Genel Komutanlığı nam ve hesabına öğrenim görecek adaylar sınav sonuçlarına http://vatandas.jandarma.gov.tr/PTM/Giris internet adresinde e-Devlet sekmesi üzerinden ulaşılabilecek.</td>\n",
       "      <td>Eğitim</td>\n",
       "    </tr>\n",
       "  </tbody>\n",
       "</table>\n",
       "</div>"
      ],
      "text/plain": [
       "                                                                     Baslik  \\\n",
       "0                                          Aksaray’dan Buckingham Sarayı’na   \n",
       "1                Malatya'da trafik kazasında 1 çocuk öldü, 2 kişi yaralandı   \n",
       "2                              \"Kozmik oda kumpas\" davasında cezalara onama   \n",
       "3                      Antalya Doğu Garajı'ndaki nekropol alanı müze olacak   \n",
       "4  SBÜ'de Jandarma adına eğitim görecek adayların sınav sonuçları açıklandı   \n",
       "\n",
       "                                                                                                                                                                                                              Ozet  \\\n",
       "0  Buckingham Sarayı’ndan, Atatürk’ün özel koleksiyonuna kadar kıymetli birçok halı Aksaray’ın Sultanhanı ilçesinde tamir ediliyor. Ünü ülke sınırlarını aşan ilçe, halı tamiri işinde dünyanın en gözde adresi...   \n",
       "1                                                                                                                       Malatya'da trambüse çarpan hafif ticari araçtaki 3 yaşındaki çocuk öldü, 2 kişi yaralandı.   \n",
       "2                   Yargıtay Ceza Genel Kurulu, Ankara Seferberlik Bölge Başkanlığının \"kozmik odaları\"nda günlerce süren aramalarla devam eden soruşturmada görev alan hakim ve savcılara verilen cezaları onadı.   \n",
       "3                                                          Antalya Doğu Garajı Kültür Merkezi inşaatı için başlatılan kazı çalışmalarında ortaya çıkan 2 bin 500 yıllık nekropol alanı müze olarak hizmet verecek.   \n",
       "4                                                                          Sağlık Bilimleri Üniversitesinde (SBÜ), Jandarma Genel Komutanlığı nam ve hesabına öğrenim görecek adayların sınav sonuçları açıklandı.   \n",
       "\n",
       "                                                                                                                                                                                                                                                                                                                                                                                                                                                                                                                                                                                                                                                                                                                                                                                                                                                                                                                                                                                                                                                                                                                                                                                                                                                                                                                                                                                                                                                                                                                                                                                                                                                                                                                                                                                                                                                                                                                                                                                                                                                                                                                                                                                                                                                                                                                                                                                                                                                                                                                                                                                                                                                                                                                                                                                                                                                                                                                                                                                                                                                                                                                                                                                                                                                                                                                                                                                                                                                                                                                                                                                                                                                                                                                                                                                                                                                                                                                                                                                                                                                                                                                                                                                                                                                                                                                                                                                                                                                                                                                                                                                                                                                                                                                                                                                                                                                                                                                                                                                                                                                                                                                                                                                                                                                                                                                                                                                                                                                                                                                                                                                                                                                                                                                                                                                                                                                                                                                                                                                                                                                                                                                                                                                                                                                                                                                                                                                                                                                                                                                                                                                                                                                                                                                                                                                                                                                                                                                                                                                                                                                                                                                                                                                                                                                                                                                                                                                                                                                                                                                                                                                                                                                                                                                                                                                                                                                                                                                                                                                                                                                                              Icerik  \\\n",
       "0  Dünyanın bilinen en eski halısı Türklere ait bir Hun halısı. Altay'ın Pazırık bölgesinde keşfedilen bu halı M.Ö. 4.- 5. yüzyıla tarihleniyor. Söz konusu keşif, Türklerin halıcılıktaki köklü geçmişine ve sürekliliğine dikkat çekmekte… Halı dokumacılığını kadın erkek ayrımı olmadan yüzyıllardır yapan Türkler, her ilmekle aşkını, ruhunu, hasretini, umudunu işliyor. Her biri dokuyanının elinde eşsizleşiyor. Anadolu’nun her bölgesi karakteristik birçok halıya sahip. Her bölgenin halısı kendi içinde bir kompozisyon, bir hikaye barındırmakta. Taşpınar Halısı, Yağcıbedir Halısı, Milas Halısı, Uşak halısı, Bergama halısı, Türkmen halısı, Gördes halısı, Döşemealtı halısı ve daha nicesi… Birçok müzede, ve bir çok ünlü ressamın tablosunda kendine yer bulan bu kıymetli halılar, motifinde, renginde Türk kültürünü taşıyor.    Halı dokumada dünyanın otorite milletlerinden biri olan Türkler, doğal olarak halı tamirciliğinde de önemli bir noktada. Dünyada halı tamiri işini Aksaray’ın Sultanhanı ilçesi domine ediyor. Dünyanın en büyük kervansaraylarından birine ev sahipliği yapan Sultanhanı ilçesinde halılar orijinallerine uygun bir şekilde onarılıyor. Sultanhanı’nın birçok sokağında küçüklü büyüklü halı tamir atölyeleri mevcut. Bölge halkının üçte biri halı tamir atölyelerinde çalışıyor. Bu atölyelerin içi sıcacık bir ev ortamı gibi. Herkes halısını köşesinde çayını yudumlayarak bazen sessizce, bazen sohbet ederek, bazen de türküler dinleyerek ilmek ilmek dokuyor, boyuyor, kesiyor ve hiç eskimemiş gibi hayata kazandırıyor…    “Zanaatkarlık görünmez olmanın mesleğidir” Yazar ve Saat Tamircisi Şule Gürbüz, tamircilik mesleği “Mistik bir iştir, görünmez olmanın mesleğidir” diyor… “Her usta aslında bir şeyleri tamir etmeye talip olmuş bir kimsedir. Yapmaya değil. Sanatçı ile zanaatkarın arasındaki en temel fark bu. Birisi yapmak ortaya koymak, yaptığı ile anılmak arzusundaki daha kötü manada demiyorum ama egonun öne çıktığı bir iş iken, zanaatkar bir başkasının yaptığına sanki hiç zarar ve bir halel gelmemiş gibi onu kendi kimliği, kisvesi, yaptığı iş belli olmazcasına gizleyerek, kendi elinin izlerini yok ederek bir yaptığıyla adımlarını da silen bir kimsedir. Daha mistik bir iştir bu nedenle de zanaatkarlık görünmez olmanın mesleğidir.” “Anadolu o kadar zengin ki her şehrin, her ilçenin, her beldenin, her köyün, rengi farklı” Sultanhanı Belediye Başkanı Fahri Solak da bir halı tamir ustası. Bölgenin halı tamiratındaki konumunun yüzyıllara dayanan bir geçmişin sonucu olduğunu söylüyor.   “Anadolu o kadar zengin ki her şehrin, her ilçenin, her beldenin, her köyün, rengi farklı. Aksaray bölgesinde çok ünlü halılar var, hatta İbn Battuta kitabında, 13. yüzyılda Aksaray’ı tanımlarken ‘Aksaray’da koyun yününden halılar dokunurdu ve bu halılar Çin’e İran’a kadar ihraç olurdu’ diyor.” Sultanhanı’nın kiliminin desen özelliklerini Sultanhanı Kervansarayı’nın taç kapısından aldığını söyleyen Fahri Solak, halı tamirciliğinin ilçede nasıl yaygınlaştığını anlattı. “1970’lerden sonra İstanbul’da büyüklerimiz halı restorasyon işine giriyor. Yani yamalık dediğimiz basit usullerle restorasyona başlıyor. Daha sonra Sultanhanı’na 1980’lerin başında halı tamir atölyeleri açılıyor. Sultanhanı ilçemizde şu anda büyüklü küçüklü 50’ye yakın halı restorasyon merkezi vardır.” “Sultanhanılı ustalarımız dünyada halı restorasyonu işinde bir numaradır” Amerika Birleşik Devletleri'nde halı koleksiyonerlerinin, müzelerin Sultanhanı’nda bu mesleğin olduğunu çok iyi bildiğini söylüyor Solak “Avrupa’da da aynı şekilde bu mesleğin Aksaray’ın Sultanhanı ilçesinde yapıldığını hepsi bilir. Biz bu mesleği daha ileriye götürdük. Sultanhanılı ustalarımız dünyada halı restorasyonu işinde bir numaradır. İpek yolunda olduğumuzdan dolayı Sultanhanılı ustalar hem Fransız kilimlerini çok iyi restore edebiliyor, goblen tarzı dediğimiz halıları da, İran halısını da, Türk Anadolu halılarını da en güzel şekilde restore ediyor. Şöyle düşünün 17. Yüzyıl bir Türk halısı var ve biz o halıyı restore ederken yeni yün kullanmıyoruz, kullanılmayacak derecede kilimler alıp onların yününü tekrar hayata geçirerek onları kullanıyoruz. O da bizim restorasyon kalitemizi artırıyor.” “Atatürk’ün mirası olan halılar Sultanhanılı ustalar tarafından restore edildi” Sultanhanı nüfusunun en az üçte biri halı restorasyon işinde. Londra Buckingham Sarayı’nın halıları da Sultanhanı’nda restore edildi. Ancak sadece eski halılar tamir edilmiyor Sultanhanı’nda… Aynı zamanda çok ünlü yerlerin şatoların, sarayların yeni sipariş halıları da burada dokunuyor.   Belediye başkanı Solak Atatürk’e ait halılar da tamir ettiklerini sölüyor. “Sultanhanılı ustalarımız çok önemli yerlerin hem halılarını dokudu, hem de oranın eserleri ilçemizde restore edildi. Londra Buckingham Sarayı’nın halıları da Sultanhanılı ustalar tarafından restore edildi. Dolmabahçe Sarayı’nın halıları, Atatürk’ün mirası, kendi koleksiyonu olan 57’ye varan halı da dahil olmak üzere hepsi Sultanhanılı ustalar tarafından restore edildi.” “Halı dokurken tarihe gidiyorum”  Halı Tamir Ustası İbrahim Kürkçü, halı dokurken tarihe gittiğine vurgu yapıyor. “Deşarj oluyorsun, bu halıdaki yaşanmışlıkları hatırlıyorsun. İnsan düşündükçe yapılan emekleri, ne için neyin dokunduğunu, emekleri hatırlıyor. Böyle insan tarihe gidiyor. O zevki alıyorsun, yıllar öncesine gidiyorsun.” Çocukluk yaşlarında bu mesleğe girdiğini söyleyen Kürkçü, sözlerini şöyle sürdürdü: “Çocukluk yıllarımda halıcılık mesleğine tamirci olarak başladım. 10-12 yıl bu mesleği yaptıktan sonra, farklı bir sektörde tarım sektöründe çalışmaya başladım. Sonra bu halıya olan özlemim hiç bitmedi. Yıllar geçse de ayrı bir zevk ve şevkle bakıyordum halıya. Çünkü tarih vardı, sonuçta bir emek vardı. Bu halıdan kopamadım. 10-12 yıl sonra tekrar bu mesleğe hobi olarak; sevdiğim halıları, yöredeki değişik halıları toplayarak böyle bir mekan açmaya karar verdim. Amacımız yıllar önce dokunan halıları insanlara tanıtmak, kültürü gelecek nesillere aktarmak.” Elimdeki bu halı da Çin ipek halısı  Geçimini halı tamirciliğinden sağlayan İsmail Konukçu, halıyı nasıl tamir ettiklerini anlatıyor. “Yurtdışından bize gelen halılar oluyor, eski halılar. Tamirlerini, yıkamasını, çekimini yapıp tekrar yurtdışına gönderiyorum. Elimdeki bu halı da Çin ipek halısı. Yaklaşık 200 yıllık. Bize tamir için geldi. İpekten, boyuyoruz, eskitiyoruz biraz da iplerini, sonrada tamirini yapıyoruz. Havlarını değiştiriyoruz, Eksik olan yerlerini tamamlıyoruz. Sonra kesimi oluyor, kesimini yapıyoruz, kesiminden sonra ütüsünü yıkamasını yaptıktan sonra tekrar yurtdışına gönderiyoruz.” “Bu işi yaptığım zaman bir hastayı hayata geçirmiş gibi hissediyorum”  Halı Tamir Ustası Mahmut Ağır ise yaptığı işi doktorun hastasını iyileştirmesine benzeterek “Doktora gidiyoruz, hastayız. Doktor bize ilaç veriyor, iyi oluyoruz değil mi? Kendimizi iyi hissediyoruz. Aynı öyle. Bu işi yaptığımız zaman bir hastayı hayata geçirmiş gibi yani mesela bir hasta iyi olmuş bizimle beraber aynı yola çıkmış gibi Mesela bitmiş, çürümüş, atılmamış değil ama hayata geri katılmış yani güncel hayatımıza geri gelmiş, kullanılabiliyor. Veya bir katalogda gördüğün zaman hoşuna gidiyor bu halıyı ben yapmıştım diyorsun diye konuştu. Bazı meslekler var ki hayatta büyük bir görünmezlikle, sessizlikle yol alıyor. Halı tamirciliği de bu mesleklerden biri. İnsanların “görünür” olmak için çabaladığı , adeta gürültü furyasına dönüşen bu çağda, görünmez olmak ve heybetli bir sessizlikle dünyaya ilmek ilmek yayılmak… Sultanhanılı ustaların yaptığı iş tam olarak bu. Dünyada müzelerin ve halı koleksiyonerlerinin yakından tanıdığı Sultanhanılı halı tamir ustaları, büyük şatoların, sarayların, köşklerin halılarını küçük atölyelerinde bir çok duygunun gölgesinde sabırla onarmaya devam ediyor.   \n",
       "1                                                                                                                                                                                                                                                                                                                                                                                                                                                                                                                                                                                                                                                                                                                                                                                                                                                                                                                                                                                                                                                                                                                                                                                                                                                                                                                                                                                                                                                                                                                                                                                                                                                                                                                                                                                                                                                                                                                                                                                                                                                                                                                                                                                                                                                                                                                                                                                                                                                                                                                                                                                                                                                                                                                                                                                                                                                                                                                                                                                                                                                                                                                                                                                                                                                                                                                                                                                                                                                                                                                                                                                                                                                                                                                                                                                                                                                                                                                                                                                                                                                                                                                                                                                                                                                                                                                                                                                                                                                                                                                                                                                                                                                                                                                                                                                                                                                                                                                                                                                                                                                                                                                                                                                                                                                                                                                                                                                                                                                                                                                                                                                                                                                                                                                                                                                                                                                                                                                                                                                                                                                                                                                                                                                                                                                                                                                                                                                                                                                                                                                                                                                                                                                                                                                                                                                                                                                                                                                                                                                                                                                                                                                                                                                                                                                                                                                                                                                                                                                                                                                                                                                                                                                                                      B.E. idaresindeki hafif ticari araç, Malatya-Elazığ kara yolunda Battalgazi ilçesine bağlı Çamurlu Mahallesi mevkisinde, M.A'nın kullandığı trambüse arkadan çarptı. Kazada yaralanan B.E, A.Y.D ile 3 yaşındaki Furkan Eser, ambulansla İnönü Üniversitesi Turgut Özal Tıp Merkezi Eğitim ve Araştırma Hastanesi'ne kaldırıldı. Yaralılardan Furkan Eser, müdahalelere rağmen kurtarılamadı.   \n",
       "2                                                                                                                                                                                                                                                                                                                                                                                                                                                                                                                                                                                                                                                                                                                                                                                                                                                                                                                                                                                                                                                                                                                                                                                                                                                                                                                                                                                                                                                                                                                                                                                                                                                                                                                                                                                                                                                                                                                                                                                                                                                                                                                                                                                                                                                                                                                                                                                                                                                                                                                                                                                                                                                                                                                                                                                                                                                                                                                                                                                                                                                                                                                                                                                                                                                                                                                                                                                                                                                                                                                                                                                                                                                                                                                                                                                                                                 Kurul, ilk derece mahkemesi sıfatıyla Yargıtay 16. Ceza Dairesince görülen ve 25 Nisan 2019'da karara bağlanan davaya ilişkin temyiz incelemesini tamamladı. Buna göre, kozmik odada arama yaptıran eski savcı Mustafa Bilgili'ye Fetullahçı Terör Örgütü (FETÖ) kapsamında silahlı terör örgütüne üye olmak suçundan verilen 11 yıl 3 ay ve devletin güvenliğine ve siyasal yararlarına ilişkin bilgileri temin etmek suçundan verilen 5 yıl 10 ay hapis cezaları onandı. Bilgili hakkında, devlet sırrına ilişkin bilgileri aynı suçtan başka davada yargılanan eski TÜBİTAK çalışanı Ünal Tatar'a vermek suretiyle devletin güvenliğine ve siyasal yararlarına ilişkin bilgileri casusluk amacıyla açıklamak suçundan açılan kamu davasının ayrılması kararı da uygun bulundu. Kozmik odaya ilişkin soruşturma kapsamında bazı kararlar veren eski hakim Halil İbrahim Kütük'e silahlı terör örgütüne üye olmak suçundan verilen 8 yıl 9 ay hapis cezası ile devletin güvenliğine ve siyasal yararlarına ilişkin bilgileri temin etmek suçundan verilen 3 yıl 4 ay hapis cezası onandı. Eski hakim Nihal Uslu'ya silahlı terör örgütüne üye olmak suçundan verilen 9 yıl ile devletin güvenliğine ve siyasal yararlarına ilişkin bilgileri temin etmek suçundan verilen 5 yıl hapis cezası da onandı. Yargıtay Ceza Genel Kurulu, kozmik odadaki aramalara katılan eski hakim Kadir Kayan'ın da aralarında olduğu firari sanıklar hakkında verilen dosyaların ayrılması yönündeki kararları uygun buldu. Kurul tarafından oy birliğiyle verilen kararın gerekçesi daha sonra yazılacak. Devlet sırrı niteliğindeki belgeler ele geçirilmişti Genelkurmay Başkanlığının tüm itirazlarına rağmen Genelkurmay Ankara Seferberlik Bölge Başkanlığının kozmik oda olarak bilinen kısımlarında 20 gün boyunca yapılan aramaların ayrıntıları, çeşitli kurumların raporlarıyla ortaya çıkmıştı. Yargıtay 16. Ceza Dairesindeki yargılamalar sırasında verilen ara karar gereği Genelkurmay Adli Müşavirliğince gönderilen raporla, aramalarda TSK'nın devlet sırrı niteliğindeki belgelerinin ele geçirildiği tescillenmişti. Raporda, davaya konu belgelerden, incelenen 374 dijital veri ve 7 fiziki belgenin dördünün oluşturulduğu tarihten itibaren devlet sırrı niteliği taşımadığı, bunlar dışında kalan diğer tüm belgelerin başlangıcından itibaren devlet sırrı olduğu ve bu özelliklerini halen koruduğu belirtilmişti. Raporda, Devlet sırrı olduğu belirtilen bir kısım belgelerin, düşman ülkeye savaş hazırlıklarımızı, savaş etkinliğimizi ve çalışma prensiplerimizi ortaya koyabilecek nitelikte bilgiler içerdiği anlaşılmıştır. tespiti yer almıştı. Kozmik odada ne olmuştu? Bülent Arınç'a suikast düzenleneceği yönündeki telefon ihbarı sonucu konuyla ilgili soruşturma başlatan dönemin Ankara Cumhuriyet Savcısı Mustafa Bilgili, Genelkurmay Ankara Seferberlik Bölge Başkanlığı 11 ve 16 numaralı odalarda 25 Aralık 2009'da arama yapmak istedi. Genelkurmay Seferberlik Tetkik Dairesi Başkanlığı ise 11 ve 16 numaralı çift kilitli çelik kapılarla muhafaza edilen odalardaki bilgi, belge ve arşiv kayıtlarının devlet sırrı niteliğinde, devletin güvenliğiyle ilgili olduğundan Ceza Muhakemesi Kanunu'nun 125. maddesi gereği cumhuriyet savcılığına bu odalara giriş izni verilemeyeceğini yazıyla belirtmişti. Bunun üzerine, Bilgili yerine dönemin Ankara 11. Ağır Ceza Mahkemesi Hakimi Kadir Kayan, 26 Aralık 2009'da 11 ve 16 numaralı odalarda arama yapmaya başladı. Kayan'ın 20 gün süren araması sonucu CD, dosya ve harddisklerden oluşan gizli belgeler dışarı çıkarılarak, bugün FETÖ ile bağlantılı oldukları tespit edilen TÜBİTAK uzmanı bilirkişilere çözümletildi. Genelkurmay Başkanlığının o günlerde tuttuğu tutanaklarda, odalardaki belge ve arşiv kayıtlarının, devlet sırrı niteliğinde olduğunun belirtilmesine rağmen arandığı ifade edilerek, Hakim Kadir Kayan tarafından bugüne kadar yapılan incelemelerde 1970'li yıllardan günümüze kadar yüklenen suçla ilgisi olmayan devlet sırrı niteliğindeki tüm bilgilere nüfuz edilmiştir. denilmişti. Bu aramanın ardından Yargıtay üyesi yapılan Kadir Kayan, FETÖ'nün 15 Temmuz darbe girişiminden bu yana firari durumda bulunuyor.   \n",
       "3                                                                                                                                                                                                                                                                                                                                                                                                                                                                                                                                                                                                                                                                                                                                                                                                                                                                                                                                                                                                                                                                                                                                                                                                                                                                                                                                                                                                                                                                                                                                                                                                                                                                                                                                                                                                                                                                                                                                                                                                                                                                                                                                                                                                                                                                                                                                                                                                                                                                                                                                                                                                                                                                                                                                                                                                                                                                                                                                                                                                                                                                                                                                                                                                                                                                                                                                                                                                                                                                                                                                                                                                                                                                                                                                                                                                                                                                                                                                                                                                                                                                                                                                                                                                                                                                                                                                                                                                                                                                                                                                                                                                                                                                                                                                                                                                                                                                                                                                                                                                                                                                                                                                                                                                                                                                                                                                                                                                                                                                                                                                                                                                                                                                                                                                                                                                                                                                                                                                                                                                                                                                                                                                                                                                                                                                                                                                                                                                                                                                                                                                                                                                                                                                                                                                                                                                                                                                                                                                                                                                                                                                                                                                                                                                                                                                                                                                                                                                                                                                                                                                   Doğu Garajı Nekropol Alanı Projesi tamamlandı. Antalya Müze Müdürlüğü denetiminde, Büyükşehir Belediyesi desteğiyle yapılan kazı çalışmalarında 866 adet ana kayaya yapılmış mezar ortaya çıkarıldı. Toplam 9 bin 136 metrekarelik bir alanda yürütülen projede nekropol alanın çatısı çelik konstrüksiyonla örtüldü. Alandaki arkeolojik buluntuların yağmur ve güneş ışınlarından korunması için çatıda yalıtım ve izolasyon işlemi gerçekleştirildi. Tarihi mezar alanlarını yakından görebilme imkanı sunacak yürüyüş yolları da tamamlandı.   \n",
       "4                                                                                                                                                                                                                                                                                                                                                                                                                                                                                                                                                                                                                                                                                                                                                                                                                                                                                                                                                                                                                                                                                                                                                                                                                                                                                                                                                                                                                                                                                                                                                                                                                                                                                                                                                                                                                                                                                                                                                                                                                                                                                                                                                                                                                                                                                                                                                                                                                                                                                                                                                                                                                                                                                                                                                                                                                                                                                                                                                                                                                                                                                                                                                                                                                                                                                                                                                                                                                                                                                                                                                                                                                                                                                                                                                                                                                                                                                                                                                                                                                                                                                                                                                                                                                                                                                                                                                                                                                                                                                                                                                                                                                                                                                                                                                                                                                                                                                                                                                                                                                                                                                                                                                                                                                                                                                                                                                                                                                                                                                                                                                                                                                                                                                                                                                                                                                                                                                                                                                                                                                                                                                                                                                                                                                                                                                                                                                                                                                                                                                                                                                                                                                                                                                                                                                                                                                                                                                                                                                                                                                                                                                                                                                                                                                                                                                                                                                                                                                                                                                                                                                                                                                                                                                                                                                                                   Jandarma ve Sahil Güvenlik Akademisinden yapılan açıklamaya göre, Sağlık Bilimleri Üniversitesinde, Jandarma Genel Komutanlığı nam ve hesabına öğrenim görecek adaylar sınav sonuçlarına http://vatandas.jandarma.gov.tr/PTM/Giris internet adresinde e-Devlet sekmesi üzerinden ulaşılabilecek.   \n",
       "\n",
       "       Kategori  \n",
       "0         Yaşam  \n",
       "1       Türkiye  \n",
       "2        Gündem  \n",
       "3  Kültür-Sanat  \n",
       "4        Eğitim  "
      ]
     },
     "execution_count": 4,
     "metadata": {},
     "output_type": "execute_result"
    }
   ],
   "source": [
    "splits = {'train': 'data/train-00000-of-00001.parquet', 'validation': 'data/validation-00000-of-00001.parquet'}\n",
    "df_tr_news_train_data = pd.read_parquet(\"hf://datasets/denizzhansahin/Turkish_News-2024/\" + splits[\"train\"])\n",
    "df_tr_news_val_data = pd.read_parquet(\"hf://datasets/denizzhansahin/Turkish_News-2024/\" + splits[\"validation\"])\n",
    "df_tr_news_data = pd.concat([df_tr_news_train_data, df_tr_news_val_data], axis=0)\n",
    "\n",
    "df_tr_news_data = df_tr_news_data[['Baslik', 'Ozet', 'Icerik', 'Kategori']]\n",
    "df_tr_news_data.to_csv(os.path.join(RAW_DATA_PATH, \"tr_news_data.csv.gz\"), index=False, compression='gzip')\n",
    "df_tr_news_data.head()"
   ]
  },
  {
   "cell_type": "markdown",
   "id": "775a5a1b-d62d-4cfd-89ce-153b787dd70f",
   "metadata": {},
   "source": [
    "### Show Metadata, Shape, Statistics and Missing Table"
   ]
  },
  {
   "cell_type": "code",
   "execution_count": 5,
   "id": "06bb3f68-041f-4af3-9db3-d411e52c8ff4",
   "metadata": {
    "tags": []
   },
   "outputs": [
    {
     "name": "stdout",
     "output_type": "stream",
     "text": [
      "<class 'pandas.core.frame.DataFrame'>\n",
      "Index: 27387 entries, 0 to 8216\n",
      "Data columns (total 4 columns):\n",
      " #   Column    Non-Null Count  Dtype \n",
      "---  ------    --------------  ----- \n",
      " 0   Baslik    27387 non-null  object\n",
      " 1   Ozet      27387 non-null  object\n",
      " 2   Icerik    27387 non-null  object\n",
      " 3   Kategori  27387 non-null  object\n",
      "dtypes: object(4)\n",
      "memory usage: 1.0+ MB\n"
     ]
    }
   ],
   "source": [
    "df_tr_news_data.info()"
   ]
  },
  {
   "cell_type": "code",
   "execution_count": 6,
   "id": "da911c15-c29d-4351-83fe-056d4db7e311",
   "metadata": {
    "tags": []
   },
   "outputs": [
    {
     "data": {
      "text/plain": [
       "(27387, 4)"
      ]
     },
     "execution_count": 6,
     "metadata": {},
     "output_type": "execute_result"
    }
   ],
   "source": [
    "df_tr_news_data.shape"
   ]
  },
  {
   "cell_type": "code",
   "execution_count": 7,
   "id": "7d3e96d9-86f6-4f81-beef-d26dd86f25cb",
   "metadata": {},
   "outputs": [
    {
     "data": {
      "text/plain": [
       "14"
      ]
     },
     "execution_count": 7,
     "metadata": {},
     "output_type": "execute_result"
    }
   ],
   "source": [
    "df_tr_news_data['Kategori'].nunique()"
   ]
  },
  {
   "cell_type": "code",
   "execution_count": 8,
   "id": "08b720ff-be20-40cd-a794-c47cc3db4ba3",
   "metadata": {
    "tags": []
   },
   "outputs": [
    {
     "data": {
      "text/plain": [
       "Kategori\n",
       "Dünya              8390\n",
       "Gündem             5480\n",
       "Türkiye            3870\n",
       "Spor               2000\n",
       "Eğitim             1780\n",
       "Kültür-Sanat       1710\n",
       "Yaşam              1280\n",
       "Savunma             952\n",
       "Ekonomi             750\n",
       "Dünya Dışı          478\n",
       "Çevre               470\n",
       "Çocuk               116\n",
       "Bilim Teknoloji     100\n",
       "Gezi                 11\n",
       "Name: count, dtype: int64"
      ]
     },
     "execution_count": 8,
     "metadata": {},
     "output_type": "execute_result"
    }
   ],
   "source": [
    "df_tr_news_data['Kategori'].value_counts(normalize=False)"
   ]
  },
  {
   "cell_type": "code",
   "execution_count": 9,
   "id": "314455c4-ea78-4556-974d-f03372cb3365",
   "metadata": {
    "tags": []
   },
   "outputs": [
    {
     "data": {
      "text/html": [
       "<div>\n",
       "<style scoped>\n",
       "    .dataframe tbody tr th:only-of-type {\n",
       "        vertical-align: middle;\n",
       "    }\n",
       "\n",
       "    .dataframe tbody tr th {\n",
       "        vertical-align: top;\n",
       "    }\n",
       "\n",
       "    .dataframe thead th {\n",
       "        text-align: right;\n",
       "    }\n",
       "</style>\n",
       "<table border=\"1\" class=\"dataframe\">\n",
       "  <thead>\n",
       "    <tr style=\"text-align: right;\">\n",
       "      <th></th>\n",
       "      <th>Count</th>\n",
       "      <th>Percent</th>\n",
       "    </tr>\n",
       "    <tr>\n",
       "      <th>Columns</th>\n",
       "      <th></th>\n",
       "      <th></th>\n",
       "    </tr>\n",
       "  </thead>\n",
       "  <tbody>\n",
       "    <tr>\n",
       "      <th>Baslik</th>\n",
       "      <td>0</td>\n",
       "      <td>0.0</td>\n",
       "    </tr>\n",
       "    <tr>\n",
       "      <th>Ozet</th>\n",
       "      <td>0</td>\n",
       "      <td>0.0</td>\n",
       "    </tr>\n",
       "    <tr>\n",
       "      <th>Icerik</th>\n",
       "      <td>0</td>\n",
       "      <td>0.0</td>\n",
       "    </tr>\n",
       "    <tr>\n",
       "      <th>Kategori</th>\n",
       "      <td>0</td>\n",
       "      <td>0.0</td>\n",
       "    </tr>\n",
       "  </tbody>\n",
       "</table>\n",
       "</div>"
      ],
      "text/plain": [
       "          Count  Percent\n",
       "Columns                 \n",
       "Baslik        0      0.0\n",
       "Ozet          0      0.0\n",
       "Icerik        0      0.0\n",
       "Kategori      0      0.0"
      ]
     },
     "execution_count": 9,
     "metadata": {},
     "output_type": "execute_result"
    }
   ],
   "source": [
    "missing_values(df=df_tr_news_data, threshold=0, asc_sorting=False)"
   ]
  },
  {
   "cell_type": "code",
   "execution_count": 10,
   "id": "4a72aec4-2086-498a-a37d-ec081f4bf8cb",
   "metadata": {},
   "outputs": [
    {
     "data": {
      "text/html": [
       "<div>\n",
       "<style scoped>\n",
       "    .dataframe tbody tr th:only-of-type {\n",
       "        vertical-align: middle;\n",
       "    }\n",
       "\n",
       "    .dataframe tbody tr th {\n",
       "        vertical-align: top;\n",
       "    }\n",
       "\n",
       "    .dataframe thead th {\n",
       "        text-align: right;\n",
       "    }\n",
       "</style>\n",
       "<table border=\"1\" class=\"dataframe\">\n",
       "  <thead>\n",
       "    <tr style=\"text-align: right;\">\n",
       "      <th></th>\n",
       "      <th>Baslik</th>\n",
       "      <th>Ozet</th>\n",
       "      <th>Icerik</th>\n",
       "      <th>Kategori</th>\n",
       "    </tr>\n",
       "  </thead>\n",
       "  <tbody>\n",
       "    <tr>\n",
       "      <th>0</th>\n",
       "      <td>Aksaray’dan Buckingham Sarayı’na</td>\n",
       "      <td>Buckingham Sarayı’ndan, Atatürk’ün özel koleksiyonuna kadar kıymetli birçok halı Aksaray’ın Sultanhanı ilçesinde tamir ediliyor. Ünü ülke sınırlarını aşan ilçe, halı tamiri işinde dünyanın en gözde adresi...</td>\n",
       "      <td>Dünyanın bilinen en eski halısı Türklere ait bir Hun halısı. Altay'ın Pazırık bölgesinde keşfedilen bu halı M.Ö. 4.- 5. yüzyıla tarihleniyor. Söz konusu keşif, Türklerin halıcılıktaki köklü geçmişine ve sürekliliğine dikkat çekmekte… Halı dokumacılığını kadın erkek ayrımı olmadan yüzyıllardır yapan Türkler, her ilmekle aşkını, ruhunu, hasretini, umudunu işliyor. Her biri dokuyanının elinde eşsizleşiyor. Anadolu’nun her bölgesi karakteristik birçok halıya sahip. Her bölgenin halısı kendi içinde bir kompozisyon, bir hikaye barındırmakta. Taşpınar Halısı, Yağcıbedir Halısı, Milas Halısı, Uşak halısı, Bergama halısı, Türkmen halısı, Gördes halısı, Döşemealtı halısı ve daha nicesi… Birçok müzede, ve bir çok ünlü ressamın tablosunda kendine yer bulan bu kıymetli halılar, motifinde, renginde Türk kültürünü taşıyor.    Halı dokumada dünyanın otorite milletlerinden biri olan Türkler, doğal olarak halı tamirciliğinde de önemli bir noktada. Dünyada halı tamiri işini Aksaray’ın Sultanhanı ilçesi domine ediyor. Dünyanın en büyük kervansaraylarından birine ev sahipliği yapan Sultanhanı ilçesinde halılar orijinallerine uygun bir şekilde onarılıyor. Sultanhanı’nın birçok sokağında küçüklü büyüklü halı tamir atölyeleri mevcut. Bölge halkının üçte biri halı tamir atölyelerinde çalışıyor. Bu atölyelerin içi sıcacık bir ev ortamı gibi. Herkes halısını köşesinde çayını yudumlayarak bazen sessizce, bazen sohbet ederek, bazen de türküler dinleyerek ilmek ilmek dokuyor, boyuyor, kesiyor ve hiç eskimemiş gibi hayata kazandırıyor…    “Zanaatkarlık görünmez olmanın mesleğidir” Yazar ve Saat Tamircisi Şule Gürbüz, tamircilik mesleği “Mistik bir iştir, görünmez olmanın mesleğidir” diyor… “Her usta aslında bir şeyleri tamir etmeye talip olmuş bir kimsedir. Yapmaya değil. Sanatçı ile zanaatkarın arasındaki en temel fark bu. Birisi yapmak ortaya koymak, yaptığı ile anılmak arzusundaki daha kötü manada demiyorum ama egonun öne çıktığı bir iş iken, zanaatkar bir başkasının yaptığına sanki hiç zarar ve bir halel gelmemiş gibi onu kendi kimliği, kisvesi, yaptığı iş belli olmazcasına gizleyerek, kendi elinin izlerini yok ederek bir yaptığıyla adımlarını da silen bir kimsedir. Daha mistik bir iştir bu nedenle de zanaatkarlık görünmez olmanın mesleğidir.” “Anadolu o kadar zengin ki her şehrin, her ilçenin, her beldenin, her köyün, rengi farklı” Sultanhanı Belediye Başkanı Fahri Solak da bir halı tamir ustası. Bölgenin halı tamiratındaki konumunun yüzyıllara dayanan bir geçmişin sonucu olduğunu söylüyor.   “Anadolu o kadar zengin ki her şehrin, her ilçenin, her beldenin, her köyün, rengi farklı. Aksaray bölgesinde çok ünlü halılar var, hatta İbn Battuta kitabında, 13. yüzyılda Aksaray’ı tanımlarken ‘Aksaray’da koyun yününden halılar dokunurdu ve bu halılar Çin’e İran’a kadar ihraç olurdu’ diyor.” Sultanhanı’nın kiliminin desen özelliklerini Sultanhanı Kervansarayı’nın taç kapısından aldığını söyleyen Fahri Solak, halı tamirciliğinin ilçede nasıl yaygınlaştığını anlattı. “1970’lerden sonra İstanbul’da büyüklerimiz halı restorasyon işine giriyor. Yani yamalık dediğimiz basit usullerle restorasyona başlıyor. Daha sonra Sultanhanı’na 1980’lerin başında halı tamir atölyeleri açılıyor. Sultanhanı ilçemizde şu anda büyüklü küçüklü 50’ye yakın halı restorasyon merkezi vardır.” “Sultanhanılı ustalarımız dünyada halı restorasyonu işinde bir numaradır” Amerika Birleşik Devletleri'nde halı koleksiyonerlerinin, müzelerin Sultanhanı’nda bu mesleğin olduğunu çok iyi bildiğini söylüyor Solak “Avrupa’da da aynı şekilde bu mesleğin Aksaray’ın Sultanhanı ilçesinde yapıldığını hepsi bilir. Biz bu mesleği daha ileriye götürdük. Sultanhanılı ustalarımız dünyada halı restorasyonu işinde bir numaradır. İpek yolunda olduğumuzdan dolayı Sultanhanılı ustalar hem Fransız kilimlerini çok iyi restore edebiliyor, goblen tarzı dediğimiz halıları da, İran halısını da, Türk Anadolu halılarını da en güzel şekilde restore ediyor. Şöyle düşünün 17. Yüzyıl bir Türk halısı var ve biz o halıyı restore ederken yeni yün kullanmıyoruz, kullanılmayacak derecede kilimler alıp onların yününü tekrar hayata geçirerek onları kullanıyoruz. O da bizim restorasyon kalitemizi artırıyor.” “Atatürk’ün mirası olan halılar Sultanhanılı ustalar tarafından restore edildi” Sultanhanı nüfusunun en az üçte biri halı restorasyon işinde. Londra Buckingham Sarayı’nın halıları da Sultanhanı’nda restore edildi. Ancak sadece eski halılar tamir edilmiyor Sultanhanı’nda… Aynı zamanda çok ünlü yerlerin şatoların, sarayların yeni sipariş halıları da burada dokunuyor.   Belediye başkanı Solak Atatürk’e ait halılar da tamir ettiklerini sölüyor. “Sultanhanılı ustalarımız çok önemli yerlerin hem halılarını dokudu, hem de oranın eserleri ilçemizde restore edildi. Londra Buckingham Sarayı’nın halıları da Sultanhanılı ustalar tarafından restore edildi. Dolmabahçe Sarayı’nın halıları, Atatürk’ün mirası, kendi koleksiyonu olan 57’ye varan halı da dahil olmak üzere hepsi Sultanhanılı ustalar tarafından restore edildi.” “Halı dokurken tarihe gidiyorum”  Halı Tamir Ustası İbrahim Kürkçü, halı dokurken tarihe gittiğine vurgu yapıyor. “Deşarj oluyorsun, bu halıdaki yaşanmışlıkları hatırlıyorsun. İnsan düşündükçe yapılan emekleri, ne için neyin dokunduğunu, emekleri hatırlıyor. Böyle insan tarihe gidiyor. O zevki alıyorsun, yıllar öncesine gidiyorsun.” Çocukluk yaşlarında bu mesleğe girdiğini söyleyen Kürkçü, sözlerini şöyle sürdürdü: “Çocukluk yıllarımda halıcılık mesleğine tamirci olarak başladım. 10-12 yıl bu mesleği yaptıktan sonra, farklı bir sektörde tarım sektöründe çalışmaya başladım. Sonra bu halıya olan özlemim hiç bitmedi. Yıllar geçse de ayrı bir zevk ve şevkle bakıyordum halıya. Çünkü tarih vardı, sonuçta bir emek vardı. Bu halıdan kopamadım. 10-12 yıl sonra tekrar bu mesleğe hobi olarak; sevdiğim halıları, yöredeki değişik halıları toplayarak böyle bir mekan açmaya karar verdim. Amacımız yıllar önce dokunan halıları insanlara tanıtmak, kültürü gelecek nesillere aktarmak.” Elimdeki bu halı da Çin ipek halısı  Geçimini halı tamirciliğinden sağlayan İsmail Konukçu, halıyı nasıl tamir ettiklerini anlatıyor. “Yurtdışından bize gelen halılar oluyor, eski halılar. Tamirlerini, yıkamasını, çekimini yapıp tekrar yurtdışına gönderiyorum. Elimdeki bu halı da Çin ipek halısı. Yaklaşık 200 yıllık. Bize tamir için geldi. İpekten, boyuyoruz, eskitiyoruz biraz da iplerini, sonrada tamirini yapıyoruz. Havlarını değiştiriyoruz, Eksik olan yerlerini tamamlıyoruz. Sonra kesimi oluyor, kesimini yapıyoruz, kesiminden sonra ütüsünü yıkamasını yaptıktan sonra tekrar yurtdışına gönderiyoruz.” “Bu işi yaptığım zaman bir hastayı hayata geçirmiş gibi hissediyorum”  Halı Tamir Ustası Mahmut Ağır ise yaptığı işi doktorun hastasını iyileştirmesine benzeterek “Doktora gidiyoruz, hastayız. Doktor bize ilaç veriyor, iyi oluyoruz değil mi? Kendimizi iyi hissediyoruz. Aynı öyle. Bu işi yaptığımız zaman bir hastayı hayata geçirmiş gibi yani mesela bir hasta iyi olmuş bizimle beraber aynı yola çıkmış gibi Mesela bitmiş, çürümüş, atılmamış değil ama hayata geri katılmış yani güncel hayatımıza geri gelmiş, kullanılabiliyor. Veya bir katalogda gördüğün zaman hoşuna gidiyor bu halıyı ben yapmıştım diyorsun diye konuştu. Bazı meslekler var ki hayatta büyük bir görünmezlikle, sessizlikle yol alıyor. Halı tamirciliği de bu mesleklerden biri. İnsanların “görünür” olmak için çabaladığı , adeta gürültü furyasına dönüşen bu çağda, görünmez olmak ve heybetli bir sessizlikle dünyaya ilmek ilmek yayılmak… Sultanhanılı ustaların yaptığı iş tam olarak bu. Dünyada müzelerin ve halı koleksiyonerlerinin yakından tanıdığı Sultanhanılı halı tamir ustaları, büyük şatoların, sarayların, köşklerin halılarını küçük atölyelerinde bir çok duygunun gölgesinde sabırla onarmaya devam ediyor.</td>\n",
       "      <td>Yaşam</td>\n",
       "    </tr>\n",
       "    <tr>\n",
       "      <th>1</th>\n",
       "      <td>Malatya'da trafik kazasında 1 çocuk öldü, 2 kişi yaralandı</td>\n",
       "      <td>Malatya'da trambüse çarpan hafif ticari araçtaki 3 yaşındaki çocuk öldü, 2 kişi yaralandı.</td>\n",
       "      <td>B.E. idaresindeki hafif ticari araç, Malatya-Elazığ kara yolunda Battalgazi ilçesine bağlı Çamurlu Mahallesi mevkisinde, M.A'nın kullandığı trambüse arkadan çarptı. Kazada yaralanan B.E, A.Y.D ile 3 yaşındaki Furkan Eser, ambulansla İnönü Üniversitesi Turgut Özal Tıp Merkezi Eğitim ve Araştırma Hastanesi'ne kaldırıldı. Yaralılardan Furkan Eser, müdahalelere rağmen kurtarılamadı.</td>\n",
       "      <td>Türkiye</td>\n",
       "    </tr>\n",
       "    <tr>\n",
       "      <th>2</th>\n",
       "      <td>\"Kozmik oda kumpas\" davasında cezalara onama</td>\n",
       "      <td>Yargıtay Ceza Genel Kurulu, Ankara Seferberlik Bölge Başkanlığının \"kozmik odaları\"nda günlerce süren aramalarla devam eden soruşturmada görev alan hakim ve savcılara verilen cezaları onadı.</td>\n",
       "      <td>Kurul, ilk derece mahkemesi sıfatıyla Yargıtay 16. Ceza Dairesince görülen ve 25 Nisan 2019'da karara bağlanan davaya ilişkin temyiz incelemesini tamamladı. Buna göre, kozmik odada arama yaptıran eski savcı Mustafa Bilgili'ye Fetullahçı Terör Örgütü (FETÖ) kapsamında silahlı terör örgütüne üye olmak suçundan verilen 11 yıl 3 ay ve devletin güvenliğine ve siyasal yararlarına ilişkin bilgileri temin etmek suçundan verilen 5 yıl 10 ay hapis cezaları onandı. Bilgili hakkında, devlet sırrına ilişkin bilgileri aynı suçtan başka davada yargılanan eski TÜBİTAK çalışanı Ünal Tatar'a vermek suretiyle devletin güvenliğine ve siyasal yararlarına ilişkin bilgileri casusluk amacıyla açıklamak suçundan açılan kamu davasının ayrılması kararı da uygun bulundu. Kozmik odaya ilişkin soruşturma kapsamında bazı kararlar veren eski hakim Halil İbrahim Kütük'e silahlı terör örgütüne üye olmak suçundan verilen 8 yıl 9 ay hapis cezası ile devletin güvenliğine ve siyasal yararlarına ilişkin bilgileri temin etmek suçundan verilen 3 yıl 4 ay hapis cezası onandı. Eski hakim Nihal Uslu'ya silahlı terör örgütüne üye olmak suçundan verilen 9 yıl ile devletin güvenliğine ve siyasal yararlarına ilişkin bilgileri temin etmek suçundan verilen 5 yıl hapis cezası da onandı. Yargıtay Ceza Genel Kurulu, kozmik odadaki aramalara katılan eski hakim Kadir Kayan'ın da aralarında olduğu firari sanıklar hakkında verilen dosyaların ayrılması yönündeki kararları uygun buldu. Kurul tarafından oy birliğiyle verilen kararın gerekçesi daha sonra yazılacak. Devlet sırrı niteliğindeki belgeler ele geçirilmişti Genelkurmay Başkanlığının tüm itirazlarına rağmen Genelkurmay Ankara Seferberlik Bölge Başkanlığının kozmik oda olarak bilinen kısımlarında 20 gün boyunca yapılan aramaların ayrıntıları, çeşitli kurumların raporlarıyla ortaya çıkmıştı. Yargıtay 16. Ceza Dairesindeki yargılamalar sırasında verilen ara karar gereği Genelkurmay Adli Müşavirliğince gönderilen raporla, aramalarda TSK'nın devlet sırrı niteliğindeki belgelerinin ele geçirildiği tescillenmişti. Raporda, davaya konu belgelerden, incelenen 374 dijital veri ve 7 fiziki belgenin dördünün oluşturulduğu tarihten itibaren devlet sırrı niteliği taşımadığı, bunlar dışında kalan diğer tüm belgelerin başlangıcından itibaren devlet sırrı olduğu ve bu özelliklerini halen koruduğu belirtilmişti. Raporda, Devlet sırrı olduğu belirtilen bir kısım belgelerin, düşman ülkeye savaş hazırlıklarımızı, savaş etkinliğimizi ve çalışma prensiplerimizi ortaya koyabilecek nitelikte bilgiler içerdiği anlaşılmıştır. tespiti yer almıştı. Kozmik odada ne olmuştu? Bülent Arınç'a suikast düzenleneceği yönündeki telefon ihbarı sonucu konuyla ilgili soruşturma başlatan dönemin Ankara Cumhuriyet Savcısı Mustafa Bilgili, Genelkurmay Ankara Seferberlik Bölge Başkanlığı 11 ve 16 numaralı odalarda 25 Aralık 2009'da arama yapmak istedi. Genelkurmay Seferberlik Tetkik Dairesi Başkanlığı ise 11 ve 16 numaralı çift kilitli çelik kapılarla muhafaza edilen odalardaki bilgi, belge ve arşiv kayıtlarının devlet sırrı niteliğinde, devletin güvenliğiyle ilgili olduğundan Ceza Muhakemesi Kanunu'nun 125. maddesi gereği cumhuriyet savcılığına bu odalara giriş izni verilemeyeceğini yazıyla belirtmişti. Bunun üzerine, Bilgili yerine dönemin Ankara 11. Ağır Ceza Mahkemesi Hakimi Kadir Kayan, 26 Aralık 2009'da 11 ve 16 numaralı odalarda arama yapmaya başladı. Kayan'ın 20 gün süren araması sonucu CD, dosya ve harddisklerden oluşan gizli belgeler dışarı çıkarılarak, bugün FETÖ ile bağlantılı oldukları tespit edilen TÜBİTAK uzmanı bilirkişilere çözümletildi. Genelkurmay Başkanlığının o günlerde tuttuğu tutanaklarda, odalardaki belge ve arşiv kayıtlarının, devlet sırrı niteliğinde olduğunun belirtilmesine rağmen arandığı ifade edilerek, Hakim Kadir Kayan tarafından bugüne kadar yapılan incelemelerde 1970'li yıllardan günümüze kadar yüklenen suçla ilgisi olmayan devlet sırrı niteliğindeki tüm bilgilere nüfuz edilmiştir. denilmişti. Bu aramanın ardından Yargıtay üyesi yapılan Kadir Kayan, FETÖ'nün 15 Temmuz darbe girişiminden bu yana firari durumda bulunuyor.</td>\n",
       "      <td>Gündem</td>\n",
       "    </tr>\n",
       "    <tr>\n",
       "      <th>3</th>\n",
       "      <td>Antalya Doğu Garajı'ndaki nekropol alanı müze olacak</td>\n",
       "      <td>Antalya Doğu Garajı Kültür Merkezi inşaatı için başlatılan kazı çalışmalarında ortaya çıkan 2 bin 500 yıllık nekropol alanı müze olarak hizmet verecek.</td>\n",
       "      <td>Doğu Garajı Nekropol Alanı Projesi tamamlandı. Antalya Müze Müdürlüğü denetiminde, Büyükşehir Belediyesi desteğiyle yapılan kazı çalışmalarında 866 adet ana kayaya yapılmış mezar ortaya çıkarıldı. Toplam 9 bin 136 metrekarelik bir alanda yürütülen projede nekropol alanın çatısı çelik konstrüksiyonla örtüldü. Alandaki arkeolojik buluntuların yağmur ve güneş ışınlarından korunması için çatıda yalıtım ve izolasyon işlemi gerçekleştirildi. Tarihi mezar alanlarını yakından görebilme imkanı sunacak yürüyüş yolları da tamamlandı.</td>\n",
       "      <td>Kültür-Sanat</td>\n",
       "    </tr>\n",
       "    <tr>\n",
       "      <th>4</th>\n",
       "      <td>SBÜ'de Jandarma adına eğitim görecek adayların sınav sonuçları açıklandı</td>\n",
       "      <td>Sağlık Bilimleri Üniversitesinde (SBÜ), Jandarma Genel Komutanlığı nam ve hesabına öğrenim görecek adayların sınav sonuçları açıklandı.</td>\n",
       "      <td>Jandarma ve Sahil Güvenlik Akademisinden yapılan açıklamaya göre, Sağlık Bilimleri Üniversitesinde, Jandarma Genel Komutanlığı nam ve hesabına öğrenim görecek adaylar sınav sonuçlarına http://vatandas.jandarma.gov.tr/PTM/Giris internet adresinde e-Devlet sekmesi üzerinden ulaşılabilecek.</td>\n",
       "      <td>Eğitim</td>\n",
       "    </tr>\n",
       "  </tbody>\n",
       "</table>\n",
       "</div>"
      ],
      "text/plain": [
       "                                                                     Baslik  \\\n",
       "0                                          Aksaray’dan Buckingham Sarayı’na   \n",
       "1                Malatya'da trafik kazasında 1 çocuk öldü, 2 kişi yaralandı   \n",
       "2                              \"Kozmik oda kumpas\" davasında cezalara onama   \n",
       "3                      Antalya Doğu Garajı'ndaki nekropol alanı müze olacak   \n",
       "4  SBÜ'de Jandarma adına eğitim görecek adayların sınav sonuçları açıklandı   \n",
       "\n",
       "                                                                                                                                                                                                              Ozet  \\\n",
       "0  Buckingham Sarayı’ndan, Atatürk’ün özel koleksiyonuna kadar kıymetli birçok halı Aksaray’ın Sultanhanı ilçesinde tamir ediliyor. Ünü ülke sınırlarını aşan ilçe, halı tamiri işinde dünyanın en gözde adresi...   \n",
       "1                                                                                                                       Malatya'da trambüse çarpan hafif ticari araçtaki 3 yaşındaki çocuk öldü, 2 kişi yaralandı.   \n",
       "2                   Yargıtay Ceza Genel Kurulu, Ankara Seferberlik Bölge Başkanlığının \"kozmik odaları\"nda günlerce süren aramalarla devam eden soruşturmada görev alan hakim ve savcılara verilen cezaları onadı.   \n",
       "3                                                          Antalya Doğu Garajı Kültür Merkezi inşaatı için başlatılan kazı çalışmalarında ortaya çıkan 2 bin 500 yıllık nekropol alanı müze olarak hizmet verecek.   \n",
       "4                                                                          Sağlık Bilimleri Üniversitesinde (SBÜ), Jandarma Genel Komutanlığı nam ve hesabına öğrenim görecek adayların sınav sonuçları açıklandı.   \n",
       "\n",
       "                                                                                                                                                                                                                                                                                                                                                                                                                                                                                                                                                                                                                                                                                                                                                                                                                                                                                                                                                                                                                                                                                                                                                                                                                                                                                                                                                                                                                                                                                                                                                                                                                                                                                                                                                                                                                                                                                                                                                                                                                                                                                                                                                                                                                                                                                                                                                                                                                                                                                                                                                                                                                                                                                                                                                                                                                                                                                                                                                                                                                                                                                                                                                                                                                                                                                                                                                                                                                                                                                                                                                                                                                                                                                                                                                                                                                                                                                                                                                                                                                                                                                                                                                                                                                                                                                                                                                                                                                                                                                                                                                                                                                                                                                                                                                                                                                                                                                                                                                                                                                                                                                                                                                                                                                                                                                                                                                                                                                                                                                                                                                                                                                                                                                                                                                                                                                                                                                                                                                                                                                                                                                                                                                                                                                                                                                                                                                                                                                                                                                                                                                                                                                                                                                                                                                                                                                                                                                                                                                                                                                                                                                                                                                                                                                                                                                                                                                                                                                                                                                                                                                                                                                                                                                                                                                                                                                                                                                                                                                                                                                                                                              Icerik  \\\n",
       "0  Dünyanın bilinen en eski halısı Türklere ait bir Hun halısı. Altay'ın Pazırık bölgesinde keşfedilen bu halı M.Ö. 4.- 5. yüzyıla tarihleniyor. Söz konusu keşif, Türklerin halıcılıktaki köklü geçmişine ve sürekliliğine dikkat çekmekte… Halı dokumacılığını kadın erkek ayrımı olmadan yüzyıllardır yapan Türkler, her ilmekle aşkını, ruhunu, hasretini, umudunu işliyor. Her biri dokuyanının elinde eşsizleşiyor. Anadolu’nun her bölgesi karakteristik birçok halıya sahip. Her bölgenin halısı kendi içinde bir kompozisyon, bir hikaye barındırmakta. Taşpınar Halısı, Yağcıbedir Halısı, Milas Halısı, Uşak halısı, Bergama halısı, Türkmen halısı, Gördes halısı, Döşemealtı halısı ve daha nicesi… Birçok müzede, ve bir çok ünlü ressamın tablosunda kendine yer bulan bu kıymetli halılar, motifinde, renginde Türk kültürünü taşıyor.    Halı dokumada dünyanın otorite milletlerinden biri olan Türkler, doğal olarak halı tamirciliğinde de önemli bir noktada. Dünyada halı tamiri işini Aksaray’ın Sultanhanı ilçesi domine ediyor. Dünyanın en büyük kervansaraylarından birine ev sahipliği yapan Sultanhanı ilçesinde halılar orijinallerine uygun bir şekilde onarılıyor. Sultanhanı’nın birçok sokağında küçüklü büyüklü halı tamir atölyeleri mevcut. Bölge halkının üçte biri halı tamir atölyelerinde çalışıyor. Bu atölyelerin içi sıcacık bir ev ortamı gibi. Herkes halısını köşesinde çayını yudumlayarak bazen sessizce, bazen sohbet ederek, bazen de türküler dinleyerek ilmek ilmek dokuyor, boyuyor, kesiyor ve hiç eskimemiş gibi hayata kazandırıyor…    “Zanaatkarlık görünmez olmanın mesleğidir” Yazar ve Saat Tamircisi Şule Gürbüz, tamircilik mesleği “Mistik bir iştir, görünmez olmanın mesleğidir” diyor… “Her usta aslında bir şeyleri tamir etmeye talip olmuş bir kimsedir. Yapmaya değil. Sanatçı ile zanaatkarın arasındaki en temel fark bu. Birisi yapmak ortaya koymak, yaptığı ile anılmak arzusundaki daha kötü manada demiyorum ama egonun öne çıktığı bir iş iken, zanaatkar bir başkasının yaptığına sanki hiç zarar ve bir halel gelmemiş gibi onu kendi kimliği, kisvesi, yaptığı iş belli olmazcasına gizleyerek, kendi elinin izlerini yok ederek bir yaptığıyla adımlarını da silen bir kimsedir. Daha mistik bir iştir bu nedenle de zanaatkarlık görünmez olmanın mesleğidir.” “Anadolu o kadar zengin ki her şehrin, her ilçenin, her beldenin, her köyün, rengi farklı” Sultanhanı Belediye Başkanı Fahri Solak da bir halı tamir ustası. Bölgenin halı tamiratındaki konumunun yüzyıllara dayanan bir geçmişin sonucu olduğunu söylüyor.   “Anadolu o kadar zengin ki her şehrin, her ilçenin, her beldenin, her köyün, rengi farklı. Aksaray bölgesinde çok ünlü halılar var, hatta İbn Battuta kitabında, 13. yüzyılda Aksaray’ı tanımlarken ‘Aksaray’da koyun yününden halılar dokunurdu ve bu halılar Çin’e İran’a kadar ihraç olurdu’ diyor.” Sultanhanı’nın kiliminin desen özelliklerini Sultanhanı Kervansarayı’nın taç kapısından aldığını söyleyen Fahri Solak, halı tamirciliğinin ilçede nasıl yaygınlaştığını anlattı. “1970’lerden sonra İstanbul’da büyüklerimiz halı restorasyon işine giriyor. Yani yamalık dediğimiz basit usullerle restorasyona başlıyor. Daha sonra Sultanhanı’na 1980’lerin başında halı tamir atölyeleri açılıyor. Sultanhanı ilçemizde şu anda büyüklü küçüklü 50’ye yakın halı restorasyon merkezi vardır.” “Sultanhanılı ustalarımız dünyada halı restorasyonu işinde bir numaradır” Amerika Birleşik Devletleri'nde halı koleksiyonerlerinin, müzelerin Sultanhanı’nda bu mesleğin olduğunu çok iyi bildiğini söylüyor Solak “Avrupa’da da aynı şekilde bu mesleğin Aksaray’ın Sultanhanı ilçesinde yapıldığını hepsi bilir. Biz bu mesleği daha ileriye götürdük. Sultanhanılı ustalarımız dünyada halı restorasyonu işinde bir numaradır. İpek yolunda olduğumuzdan dolayı Sultanhanılı ustalar hem Fransız kilimlerini çok iyi restore edebiliyor, goblen tarzı dediğimiz halıları da, İran halısını da, Türk Anadolu halılarını da en güzel şekilde restore ediyor. Şöyle düşünün 17. Yüzyıl bir Türk halısı var ve biz o halıyı restore ederken yeni yün kullanmıyoruz, kullanılmayacak derecede kilimler alıp onların yününü tekrar hayata geçirerek onları kullanıyoruz. O da bizim restorasyon kalitemizi artırıyor.” “Atatürk’ün mirası olan halılar Sultanhanılı ustalar tarafından restore edildi” Sultanhanı nüfusunun en az üçte biri halı restorasyon işinde. Londra Buckingham Sarayı’nın halıları da Sultanhanı’nda restore edildi. Ancak sadece eski halılar tamir edilmiyor Sultanhanı’nda… Aynı zamanda çok ünlü yerlerin şatoların, sarayların yeni sipariş halıları da burada dokunuyor.   Belediye başkanı Solak Atatürk’e ait halılar da tamir ettiklerini sölüyor. “Sultanhanılı ustalarımız çok önemli yerlerin hem halılarını dokudu, hem de oranın eserleri ilçemizde restore edildi. Londra Buckingham Sarayı’nın halıları da Sultanhanılı ustalar tarafından restore edildi. Dolmabahçe Sarayı’nın halıları, Atatürk’ün mirası, kendi koleksiyonu olan 57’ye varan halı da dahil olmak üzere hepsi Sultanhanılı ustalar tarafından restore edildi.” “Halı dokurken tarihe gidiyorum”  Halı Tamir Ustası İbrahim Kürkçü, halı dokurken tarihe gittiğine vurgu yapıyor. “Deşarj oluyorsun, bu halıdaki yaşanmışlıkları hatırlıyorsun. İnsan düşündükçe yapılan emekleri, ne için neyin dokunduğunu, emekleri hatırlıyor. Böyle insan tarihe gidiyor. O zevki alıyorsun, yıllar öncesine gidiyorsun.” Çocukluk yaşlarında bu mesleğe girdiğini söyleyen Kürkçü, sözlerini şöyle sürdürdü: “Çocukluk yıllarımda halıcılık mesleğine tamirci olarak başladım. 10-12 yıl bu mesleği yaptıktan sonra, farklı bir sektörde tarım sektöründe çalışmaya başladım. Sonra bu halıya olan özlemim hiç bitmedi. Yıllar geçse de ayrı bir zevk ve şevkle bakıyordum halıya. Çünkü tarih vardı, sonuçta bir emek vardı. Bu halıdan kopamadım. 10-12 yıl sonra tekrar bu mesleğe hobi olarak; sevdiğim halıları, yöredeki değişik halıları toplayarak böyle bir mekan açmaya karar verdim. Amacımız yıllar önce dokunan halıları insanlara tanıtmak, kültürü gelecek nesillere aktarmak.” Elimdeki bu halı da Çin ipek halısı  Geçimini halı tamirciliğinden sağlayan İsmail Konukçu, halıyı nasıl tamir ettiklerini anlatıyor. “Yurtdışından bize gelen halılar oluyor, eski halılar. Tamirlerini, yıkamasını, çekimini yapıp tekrar yurtdışına gönderiyorum. Elimdeki bu halı da Çin ipek halısı. Yaklaşık 200 yıllık. Bize tamir için geldi. İpekten, boyuyoruz, eskitiyoruz biraz da iplerini, sonrada tamirini yapıyoruz. Havlarını değiştiriyoruz, Eksik olan yerlerini tamamlıyoruz. Sonra kesimi oluyor, kesimini yapıyoruz, kesiminden sonra ütüsünü yıkamasını yaptıktan sonra tekrar yurtdışına gönderiyoruz.” “Bu işi yaptığım zaman bir hastayı hayata geçirmiş gibi hissediyorum”  Halı Tamir Ustası Mahmut Ağır ise yaptığı işi doktorun hastasını iyileştirmesine benzeterek “Doktora gidiyoruz, hastayız. Doktor bize ilaç veriyor, iyi oluyoruz değil mi? Kendimizi iyi hissediyoruz. Aynı öyle. Bu işi yaptığımız zaman bir hastayı hayata geçirmiş gibi yani mesela bir hasta iyi olmuş bizimle beraber aynı yola çıkmış gibi Mesela bitmiş, çürümüş, atılmamış değil ama hayata geri katılmış yani güncel hayatımıza geri gelmiş, kullanılabiliyor. Veya bir katalogda gördüğün zaman hoşuna gidiyor bu halıyı ben yapmıştım diyorsun diye konuştu. Bazı meslekler var ki hayatta büyük bir görünmezlikle, sessizlikle yol alıyor. Halı tamirciliği de bu mesleklerden biri. İnsanların “görünür” olmak için çabaladığı , adeta gürültü furyasına dönüşen bu çağda, görünmez olmak ve heybetli bir sessizlikle dünyaya ilmek ilmek yayılmak… Sultanhanılı ustaların yaptığı iş tam olarak bu. Dünyada müzelerin ve halı koleksiyonerlerinin yakından tanıdığı Sultanhanılı halı tamir ustaları, büyük şatoların, sarayların, köşklerin halılarını küçük atölyelerinde bir çok duygunun gölgesinde sabırla onarmaya devam ediyor.   \n",
       "1                                                                                                                                                                                                                                                                                                                                                                                                                                                                                                                                                                                                                                                                                                                                                                                                                                                                                                                                                                                                                                                                                                                                                                                                                                                                                                                                                                                                                                                                                                                                                                                                                                                                                                                                                                                                                                                                                                                                                                                                                                                                                                                                                                                                                                                                                                                                                                                                                                                                                                                                                                                                                                                                                                                                                                                                                                                                                                                                                                                                                                                                                                                                                                                                                                                                                                                                                                                                                                                                                                                                                                                                                                                                                                                                                                                                                                                                                                                                                                                                                                                                                                                                                                                                                                                                                                                                                                                                                                                                                                                                                                                                                                                                                                                                                                                                                                                                                                                                                                                                                                                                                                                                                                                                                                                                                                                                                                                                                                                                                                                                                                                                                                                                                                                                                                                                                                                                                                                                                                                                                                                                                                                                                                                                                                                                                                                                                                                                                                                                                                                                                                                                                                                                                                                                                                                                                                                                                                                                                                                                                                                                                                                                                                                                                                                                                                                                                                                                                                                                                                                                                                                                                                                                                      B.E. idaresindeki hafif ticari araç, Malatya-Elazığ kara yolunda Battalgazi ilçesine bağlı Çamurlu Mahallesi mevkisinde, M.A'nın kullandığı trambüse arkadan çarptı. Kazada yaralanan B.E, A.Y.D ile 3 yaşındaki Furkan Eser, ambulansla İnönü Üniversitesi Turgut Özal Tıp Merkezi Eğitim ve Araştırma Hastanesi'ne kaldırıldı. Yaralılardan Furkan Eser, müdahalelere rağmen kurtarılamadı.   \n",
       "2                                                                                                                                                                                                                                                                                                                                                                                                                                                                                                                                                                                                                                                                                                                                                                                                                                                                                                                                                                                                                                                                                                                                                                                                                                                                                                                                                                                                                                                                                                                                                                                                                                                                                                                                                                                                                                                                                                                                                                                                                                                                                                                                                                                                                                                                                                                                                                                                                                                                                                                                                                                                                                                                                                                                                                                                                                                                                                                                                                                                                                                                                                                                                                                                                                                                                                                                                                                                                                                                                                                                                                                                                                                                                                                                                                                                                                 Kurul, ilk derece mahkemesi sıfatıyla Yargıtay 16. Ceza Dairesince görülen ve 25 Nisan 2019'da karara bağlanan davaya ilişkin temyiz incelemesini tamamladı. Buna göre, kozmik odada arama yaptıran eski savcı Mustafa Bilgili'ye Fetullahçı Terör Örgütü (FETÖ) kapsamında silahlı terör örgütüne üye olmak suçundan verilen 11 yıl 3 ay ve devletin güvenliğine ve siyasal yararlarına ilişkin bilgileri temin etmek suçundan verilen 5 yıl 10 ay hapis cezaları onandı. Bilgili hakkında, devlet sırrına ilişkin bilgileri aynı suçtan başka davada yargılanan eski TÜBİTAK çalışanı Ünal Tatar'a vermek suretiyle devletin güvenliğine ve siyasal yararlarına ilişkin bilgileri casusluk amacıyla açıklamak suçundan açılan kamu davasının ayrılması kararı da uygun bulundu. Kozmik odaya ilişkin soruşturma kapsamında bazı kararlar veren eski hakim Halil İbrahim Kütük'e silahlı terör örgütüne üye olmak suçundan verilen 8 yıl 9 ay hapis cezası ile devletin güvenliğine ve siyasal yararlarına ilişkin bilgileri temin etmek suçundan verilen 3 yıl 4 ay hapis cezası onandı. Eski hakim Nihal Uslu'ya silahlı terör örgütüne üye olmak suçundan verilen 9 yıl ile devletin güvenliğine ve siyasal yararlarına ilişkin bilgileri temin etmek suçundan verilen 5 yıl hapis cezası da onandı. Yargıtay Ceza Genel Kurulu, kozmik odadaki aramalara katılan eski hakim Kadir Kayan'ın da aralarında olduğu firari sanıklar hakkında verilen dosyaların ayrılması yönündeki kararları uygun buldu. Kurul tarafından oy birliğiyle verilen kararın gerekçesi daha sonra yazılacak. Devlet sırrı niteliğindeki belgeler ele geçirilmişti Genelkurmay Başkanlığının tüm itirazlarına rağmen Genelkurmay Ankara Seferberlik Bölge Başkanlığının kozmik oda olarak bilinen kısımlarında 20 gün boyunca yapılan aramaların ayrıntıları, çeşitli kurumların raporlarıyla ortaya çıkmıştı. Yargıtay 16. Ceza Dairesindeki yargılamalar sırasında verilen ara karar gereği Genelkurmay Adli Müşavirliğince gönderilen raporla, aramalarda TSK'nın devlet sırrı niteliğindeki belgelerinin ele geçirildiği tescillenmişti. Raporda, davaya konu belgelerden, incelenen 374 dijital veri ve 7 fiziki belgenin dördünün oluşturulduğu tarihten itibaren devlet sırrı niteliği taşımadığı, bunlar dışında kalan diğer tüm belgelerin başlangıcından itibaren devlet sırrı olduğu ve bu özelliklerini halen koruduğu belirtilmişti. Raporda, Devlet sırrı olduğu belirtilen bir kısım belgelerin, düşman ülkeye savaş hazırlıklarımızı, savaş etkinliğimizi ve çalışma prensiplerimizi ortaya koyabilecek nitelikte bilgiler içerdiği anlaşılmıştır. tespiti yer almıştı. Kozmik odada ne olmuştu? Bülent Arınç'a suikast düzenleneceği yönündeki telefon ihbarı sonucu konuyla ilgili soruşturma başlatan dönemin Ankara Cumhuriyet Savcısı Mustafa Bilgili, Genelkurmay Ankara Seferberlik Bölge Başkanlığı 11 ve 16 numaralı odalarda 25 Aralık 2009'da arama yapmak istedi. Genelkurmay Seferberlik Tetkik Dairesi Başkanlığı ise 11 ve 16 numaralı çift kilitli çelik kapılarla muhafaza edilen odalardaki bilgi, belge ve arşiv kayıtlarının devlet sırrı niteliğinde, devletin güvenliğiyle ilgili olduğundan Ceza Muhakemesi Kanunu'nun 125. maddesi gereği cumhuriyet savcılığına bu odalara giriş izni verilemeyeceğini yazıyla belirtmişti. Bunun üzerine, Bilgili yerine dönemin Ankara 11. Ağır Ceza Mahkemesi Hakimi Kadir Kayan, 26 Aralık 2009'da 11 ve 16 numaralı odalarda arama yapmaya başladı. Kayan'ın 20 gün süren araması sonucu CD, dosya ve harddisklerden oluşan gizli belgeler dışarı çıkarılarak, bugün FETÖ ile bağlantılı oldukları tespit edilen TÜBİTAK uzmanı bilirkişilere çözümletildi. Genelkurmay Başkanlığının o günlerde tuttuğu tutanaklarda, odalardaki belge ve arşiv kayıtlarının, devlet sırrı niteliğinde olduğunun belirtilmesine rağmen arandığı ifade edilerek, Hakim Kadir Kayan tarafından bugüne kadar yapılan incelemelerde 1970'li yıllardan günümüze kadar yüklenen suçla ilgisi olmayan devlet sırrı niteliğindeki tüm bilgilere nüfuz edilmiştir. denilmişti. Bu aramanın ardından Yargıtay üyesi yapılan Kadir Kayan, FETÖ'nün 15 Temmuz darbe girişiminden bu yana firari durumda bulunuyor.   \n",
       "3                                                                                                                                                                                                                                                                                                                                                                                                                                                                                                                                                                                                                                                                                                                                                                                                                                                                                                                                                                                                                                                                                                                                                                                                                                                                                                                                                                                                                                                                                                                                                                                                                                                                                                                                                                                                                                                                                                                                                                                                                                                                                                                                                                                                                                                                                                                                                                                                                                                                                                                                                                                                                                                                                                                                                                                                                                                                                                                                                                                                                                                                                                                                                                                                                                                                                                                                                                                                                                                                                                                                                                                                                                                                                                                                                                                                                                                                                                                                                                                                                                                                                                                                                                                                                                                                                                                                                                                                                                                                                                                                                                                                                                                                                                                                                                                                                                                                                                                                                                                                                                                                                                                                                                                                                                                                                                                                                                                                                                                                                                                                                                                                                                                                                                                                                                                                                                                                                                                                                                                                                                                                                                                                                                                                                                                                                                                                                                                                                                                                                                                                                                                                                                                                                                                                                                                                                                                                                                                                                                                                                                                                                                                                                                                                                                                                                                                                                                                                                                                                                                                                   Doğu Garajı Nekropol Alanı Projesi tamamlandı. Antalya Müze Müdürlüğü denetiminde, Büyükşehir Belediyesi desteğiyle yapılan kazı çalışmalarında 866 adet ana kayaya yapılmış mezar ortaya çıkarıldı. Toplam 9 bin 136 metrekarelik bir alanda yürütülen projede nekropol alanın çatısı çelik konstrüksiyonla örtüldü. Alandaki arkeolojik buluntuların yağmur ve güneş ışınlarından korunması için çatıda yalıtım ve izolasyon işlemi gerçekleştirildi. Tarihi mezar alanlarını yakından görebilme imkanı sunacak yürüyüş yolları da tamamlandı.   \n",
       "4                                                                                                                                                                                                                                                                                                                                                                                                                                                                                                                                                                                                                                                                                                                                                                                                                                                                                                                                                                                                                                                                                                                                                                                                                                                                                                                                                                                                                                                                                                                                                                                                                                                                                                                                                                                                                                                                                                                                                                                                                                                                                                                                                                                                                                                                                                                                                                                                                                                                                                                                                                                                                                                                                                                                                                                                                                                                                                                                                                                                                                                                                                                                                                                                                                                                                                                                                                                                                                                                                                                                                                                                                                                                                                                                                                                                                                                                                                                                                                                                                                                                                                                                                                                                                                                                                                                                                                                                                                                                                                                                                                                                                                                                                                                                                                                                                                                                                                                                                                                                                                                                                                                                                                                                                                                                                                                                                                                                                                                                                                                                                                                                                                                                                                                                                                                                                                                                                                                                                                                                                                                                                                                                                                                                                                                                                                                                                                                                                                                                                                                                                                                                                                                                                                                                                                                                                                                                                                                                                                                                                                                                                                                                                                                                                                                                                                                                                                                                                                                                                                                                                                                                                                                                                                                                                                                   Jandarma ve Sahil Güvenlik Akademisinden yapılan açıklamaya göre, Sağlık Bilimleri Üniversitesinde, Jandarma Genel Komutanlığı nam ve hesabına öğrenim görecek adaylar sınav sonuçlarına http://vatandas.jandarma.gov.tr/PTM/Giris internet adresinde e-Devlet sekmesi üzerinden ulaşılabilecek.   \n",
       "\n",
       "       Kategori  \n",
       "0         Yaşam  \n",
       "1       Türkiye  \n",
       "2        Gündem  \n",
       "3  Kültür-Sanat  \n",
       "4        Eğitim  "
      ]
     },
     "execution_count": 10,
     "metadata": {},
     "output_type": "execute_result"
    }
   ],
   "source": [
    "df_tr_news_data.head(5)"
   ]
  },
  {
   "cell_type": "markdown",
   "id": "746f1128-d86f-40e6-b484-d2cca992ba80",
   "metadata": {},
   "source": [
    "### Split Data"
   ]
  },
  {
   "cell_type": "code",
   "execution_count": 11,
   "id": "c6152fe5-c3a0-4b67-8f1b-a095e030e14c",
   "metadata": {},
   "outputs": [],
   "source": [
    "# Neden Yapıyoruz\n",
    "# 1- Balanced Dataset\n",
    "# 2- Computing Power"
   ]
  },
  {
   "cell_type": "code",
   "execution_count": 12,
   "id": "cbb229b7-c266-4734-ab56-469658003918",
   "metadata": {},
   "outputs": [
    {
     "name": "stdout",
     "output_type": "stream",
     "text": [
      "Kategori\n",
      "Türkiye    1500\n",
      "Dünya      1500\n",
      "Spor       1500\n",
      "Gündem     1500\n",
      "Eğitim     1500\n",
      "Name: count, dtype: int64\n"
     ]
    }
   ],
   "source": [
    "news_cats = ['Dünya', 'Gündem', 'Türkiye', 'Spor', 'Eğitim']\n",
    "\n",
    "df_tr_news_data_balanced = pd.DataFrame()\n",
    "for cat in news_cats:\n",
    "    df_tr_news_data_cat = df_tr_news_data[df_tr_news_data['Kategori'] == cat].sample(n=1500, random_state=34)\n",
    "    df_tr_news_data_balanced = pd.concat([df_tr_news_data_balanced, df_tr_news_data_cat])\n",
    "\n",
    "df_tr_news_data= df_tr_news_data_balanced.sample(frac=1, random_state=34).reset_index(drop=True)\n",
    "\n",
    "print(df_tr_news_data['Kategori'].value_counts(normalize=False))"
   ]
  },
  {
   "cell_type": "code",
   "execution_count": 13,
   "id": "c0df1d55-1e29-4377-aded-bfde99221b5a",
   "metadata": {},
   "outputs": [
    {
     "data": {
      "text/html": [
       "<div>\n",
       "<style scoped>\n",
       "    .dataframe tbody tr th:only-of-type {\n",
       "        vertical-align: middle;\n",
       "    }\n",
       "\n",
       "    .dataframe tbody tr th {\n",
       "        vertical-align: top;\n",
       "    }\n",
       "\n",
       "    .dataframe thead th {\n",
       "        text-align: right;\n",
       "    }\n",
       "</style>\n",
       "<table border=\"1\" class=\"dataframe\">\n",
       "  <thead>\n",
       "    <tr style=\"text-align: right;\">\n",
       "      <th></th>\n",
       "      <th>Baslik</th>\n",
       "      <th>Ozet</th>\n",
       "      <th>Icerik</th>\n",
       "      <th>Kategori</th>\n",
       "    </tr>\n",
       "  </thead>\n",
       "  <tbody>\n",
       "    <tr>\n",
       "      <th>0</th>\n",
       "      <td>İstanbul'da çakar ve emniyet şeridi denetimi yapıldı</td>\n",
       "      <td>İstanbul'da polis ekipleri, usulsüz çakar-siren tertibatı kullanımı ve emniyet şeridi ihlaline yönelik denetim gerçekleştirdi.</td>\n",
       "      <td>Trafik Denetleme Şube Müdürlüğü ekipleri, sivil trafik polislerinin de katılımıyla Üsküdar'da D-100 kara yolu Avrasya Tüneli istikametinde denetim noktası oluşturdu. Uygulamada, usulsüz çakar-siren tertibatı kullanan ve emniyet şeridi ihlali yapan araçlar denetlendi. Polis ekipleri, kontrol noktasında durdurulan araç sürücülerinin belgelerini inceledi. Denetim sırasında emniyet şeridi ihlali yaptığı belirlenen bir otomobil sürücüsüne 6 bin 440 lira ceza kesildi.</td>\n",
       "      <td>Türkiye</td>\n",
       "    </tr>\n",
       "    <tr>\n",
       "      <th>1</th>\n",
       "      <td>İsrail basını: ABD ile Gazze'de çok uluslu güç oluşturulması için ilerleme sağlandı</td>\n",
       "      <td>İsrail Savunma Bakanı Yoav Gallant'ın, Gazze'de çok uluslu güç oluşturulması konusunda ABD'de yaptığı görüşmelerde ilerleme kaydedildiği öne sürüldü.</td>\n",
       "      <td>İsrail'in Kanal 12 televizyonunun haberinde, Gallant'ın, geçen hafta Washington'a yaptığı ziyaret sırasında, ABD'li yetkililerle, bölgenin güvenliğinden ve insani yardım girişinden sorumlu olacak çok uluslu gücün Gazze'de görevlendirilmesi konusunda müzakerelerde bulunduğu iddia edildi. Gallant, bu görüşmelerde ilerleme kaydedildiğini İsrail Başbakanı Binyamin Netanyahu'ya iletti. ABD unsurlarını içerip içermeyeceği netlik kazanmayan çok uluslu gücün 3 Arap ülkesinden oluşacağı ifade edildi ancak bu ülkelerin adı verilmedi. Haberde, söz konusu çok uluslu güce ilişkin başka ayrıntı yer almadı. Amerikan haber sitesi Axios, 28 Mart'ta Gallant'ın, ABD'ye Gazze'de görevlendirilmek üzere çok uluslu güç oluşturma teklifinde bulunduğunu belirtilmişti. İsrail'in, söz konusu çok uluslu güçle, Hamas'ın savaş bittikten sonra Gazze'de yeniden kontrolü ele geçirmesine engel olmaya çalıştığı belirtiliyor.</td>\n",
       "      <td>Dünya</td>\n",
       "    </tr>\n",
       "    <tr>\n",
       "      <th>2</th>\n",
       "      <td>Josep Borrell'den İsrail'e tepki: Nereye tahliye edeceksiniz, Ay'a mı?</td>\n",
       "      <td>Avrupa Birliği (AB) Dış İlişkiler ve Güvenlik Politikası Yüksek Temsilcisi Josep Borrell, İsrail'in Gazze'ye yönelik saldırılarında yaşanan sivil kayıplara tepki gösteren ülkelere, İsrail'e silah ihracatını durdurma çağrısı yaptı.</td>\n",
       "      <td>Borrell, Birleşmiş Milletler Yakın Doğu'daki Filistinli Mültecilere Yardım ve Bayındırlık Ajansı (UNRWA) Genel Komiseri Philippe Lazzarini ve AB Dönem Başkanı Belçika'nın Kalkınma İşbirliği Bakanı Caroline Gennez, AB ülkelerinin kalkınma bakanlarının Brüksel'deki gayriresmi nitelikli toplantısının ardından ortak basın toplantısı düzenledi. UNRWA'ya desteğin sürmesine ilişkin AB üye ülkeleri arasında fikir ayrılıkları olduğunu kaydeden Borrell, İsim vermeyeceğim ancak bazı üye ülkeler 'desteğimi artıracağım' derken, bazıları 'desteğimi iptal edebilirim', bazıları da 'iptal etmeyeceğim ama açıklama yapılana kadar yardım etmeyeceğim' diyor. Ancak çoğunluğun Filistin halkını desteklemek için başka bir alternatif olmadığı gerçeğini anladığını düşünüyorum. dedi.   Borrell, İsrail hükümetinin UNRWA'yı kapatmaya yönelik siyasi iradesini gizlemediğini hatırlatarak, suçlamaları kanıtlaması gereken tarafın İsrail olduğunu ancak şimdiye kadar iddialara ilişkin herhangi bir kanıt iletilmediğini söyledi. (Refah'ta) İnsanları nereye tahliye edecekler, Ay'a mı? UNRWA'ya ilişkin karara varılmadan önce iddiaların kanıtlanması gerektiğini vurgulayan Borrell, (İddialar) Belki doğrudur, belki değildir ancak makul gibi görünen bu iddiaya insanların körü körüne inanmak zorunda kalması hukukun temel ilkelerine aykırıdır. Ve bizler her zaman hukukun üstünlüğü hakkında vaaz veren tarafız. Umuyorum ki bunu söylediğim için antisemitizmle suçlanmayacağım. eleştirisinde bulundu. Borrell, Gazze'de her geçen gün artarak devam eden sivil kayıplara tepki gösteren ülkelere çağrıda bulunarak, Eğer çok fazla insanın öldürüldüğüne inanıyorsanız, belki de bu kadar çok insanın öldürülmesini engellemek için (İsrail'e) daha az silah sağlamalısınız. Herkes Tel Aviv'e gidip yalvarıyor, 'Bunu yapmayın, sivilleri koruyun, bu kadar çok insanı öldürmeyin' diye. Ama (İsrail Başbakanı Binyamin) Netanyahu kimseyi dinlemiyor. dedi. İsrail’in Refah bölgesine saldırı planına ilişkin de konuşan Borrell, İnsanlar tahliye edilecekmiş. Nereye, Ay'a mı? Bu insanları nereye tahliye edecekler? Uluslararası toplum bunun çok fazla insanın hayatını kaybedeceği bir katliam olacağına inanıyor. Belki de (İsrail'e yaptıkları) silah tedarikini düşünmeleri gerekiyordur. Ülkeler 'Çok fazla insan öldürülüyor, lütfen insanlarla ilgilenin, lütfen bu kadar çok insan öldürmeyin' demeye devam ediyor. 'Lütfen' demeyi bırakın ve bir şeyler yapın. sözleriyle tepki gösterdi. Borrell, UNRWA'ya yönelik desteğin kesilmesinin risklerine ilişkin UNRWA'ya verilen desteğin kesilmesi, ihtiyaç sahibi milyonlarca insana verilen hayati hizmetlerin kesintiye uğraması ve Gazze'de daha büyük bir insani felaket anlamına gelecektir. değerlendirmesinde bulundu. Lazzarini, istifa etmeyeceğini söyledi UNRWA Genel Komiseri Lazzarini ise Refah'ta bir askeri operasyonun başlama ihtimalinden endişe duyduğunu söyleyerek, Hepimizin bildiği üzere, sivil halkın ödediği bedel tarif edilemez boyutlarda. Nüfusun yüzde 5'i ya öldürüldü ya yaralandı ya da kayıp ve bu sadece dört ay içinde oldu. dedi. Lazzarini, saldırılar nedeniyle Refah'ta faaliyet göstermenin her geçen gün zorlaştığını aktararak Dün ilk kez Birleşmiş Milletler (BM), yerel polisin sağladığı asgari koruma olmadığı için faaliyet gösteremedi. Yerel polis olmadığı için de sınırdaki konvoylarımız yağmalandı ve 100 kadar genç tarafından tahrip edildi. diye konuştu. Gazze'de güvenli bir yerin olmadığına dikkati çeken Lazzarini, Gazze Şeridi'nde güvenli bir yerin ne anlama geldiği konusunda hiçbir fikrim yok. Şu ana kadar 4 kez insanların bir yerden başka bir yere götürüldüğünü gördüm. Her seferinde onlara daha güvenli bir yer olduğu söylenen bir yere gitmeleri söylendi ve ardından gidilen yerin güvenli olmadığı kanıtlandı. Peki bu insanlar nereye gidecek? Bilmiyorum. ifadelerini kullandı. Lazzarini, İsrail'in iddialarının ardından yürütülen soruşturma ve eleştiriler nedeniyle istifa edip etmeyeceği sorusuna, İstifa etme niyetim yok. cevabını verdi. (Refah'ta) İnsanların gidecek hiçbir yeri yok AB Dönem Başkanı Belçika'nın Kalkınma İşbirliği Bakanı Gennez ise Refah bölgesine saldırı planına ilişkin Refah'ta mahsur kalan 1 milyondan fazla Filistinli, bizzat Başbakan'ın (Binyamin Netanyahu) emriyle gerçekleştireceği kara operasyonuyla karşı karşıya. Bu insanların gidecek hiçbir yeri yok. Geniş çaplı bir saldırı insani bir felakete, çok daha fazla ölüme ve çok daha fazla yaralıya yol açacaktır. ifadelerini kullandı. Netanyahu'nun açıklamasının, Uluslararası Adalet Divanının (UAD) İsrail'den sivil can kaybını önlemesini ve daha fazla insani yardım ulaştırılmasını sağlamasını isteyen ihtiyati tedbirleri uygulama kararından birkaç hafta sonra geldiğine işaret eden Gennez, ateşkes çağrısında bulundu.</td>\n",
       "      <td>Dünya</td>\n",
       "    </tr>\n",
       "    <tr>\n",
       "      <th>3</th>\n",
       "      <td>İskoçya Başbakanı'nın eşi, Gazze'deki aile üyelerinin Türkiye'nin yardımıyla kurtarıldığını açıkladı</td>\n",
       "      <td>İskoçya Bölgesel Başbakanı Hamza Yusuf'un eşi Nadia El-Nakla, Gazze'deki kardeşinin eşi ve çocuklarının Türkiye tarafından bölgeden çıkarıldığını ve geçici koruma statüsüyle Türkiye'ye getirildiğini söyledi.</td>\n",
       "      <td>Başbakan Yusuf'un eşi Nadia El-Nakla, The Guardian gazetesine verdiği mülakatta Gazze'deki kardeşinin eşi ve çocuklarını İngiltere'ye getirebilmek için hükümetten Ukraynalılara uyguladığı vizenin benzerini uygulamaya geçirmesini istedi. El-Nakla, Ukraynalılara uygulanan vize programı sayesinde birçok kişinin savaştan kurtulduğunu belirterek, Özellikle İngiltere'de aile üyeleri bulunan Gazzelilerin de aynı hakka sahip olması gerek. değerlendirmesinde bulundu. İsrail'in Gazze'deki saldırılarını soykırım olarak nitelendiren El-Nakla, İlk kez ders kitaplarında okuduğumuz soykırımı gerçek zamanlı görüyoruz ifadesini kullandı. Güvende oldukları için çok mutluyum El-Nakla, Kasım 2023'te Cumhurbaşkanı Recep Tayyip Erdoğan'ın eşi Emine Erdoğan'ın çağrısıyla toplanan ve ateşkes isteyen lider eşleri zirvesine katıldığını, Türkiye'nin geçici koruma statüsü vereceği Gazzeli aile üyelerinin listesini İsrail'e ilettiğini, kendi kardeşi ve ailesinin isimlerinin de bulunduğunu ancak İsrail'in daha sonra kardeşinin adını listeden sildiğini belirtti. Bu nedenle yalnızca yengesi ve 4 yeğeninin Gazze'den çıkarıldığını ve Türkiye'ye götürüldüğünü kaydeden El-Nakla, Güvende oldukları için çok mutluyum. Kardeşim, çocuklarını kurtardığımız için bize sürekli teşekkür ediyor ifadelerini kullandı. El-Nakla, aile üyelerini İskoçya'ya getirecek yöntemlerin eksikliğinden dolayı üzüntü duyduğunu belirterek, Kendi ülkemde ikinci sınıf vatandaş gibi hissediyorum çünkü kendi kardeşimi kendi evime getirme hakkım yok. Karşıdaki evde haklı olarak Ukraynalı aileyi ağırlayan insanlar var ama ben kendi kardeşimi ağırlayamıyorum ve bu, beni çok üzüyor. Burada doğdum, vergilerimi ödüyorum, topluma katkıda bulunuyorum ancak beni temsil etmesi gereken hükümet böyle bir iş yapıyor. değerlendirmesinde bulundu. O ayeti günde 100 kere okuyorum Bu yılın ikinci yarısında düzenlenecek seçimlerde seçmenlerin değerlendirme yaparken partilerin Gazze tutumunu göz önünde bulundurmaları gerektiğini kaydeden El-Nakla, İngiliz siyasetinin ABD dış politikasını takip ettiğini öne sürdü ve Her ne kadar mecliste 'Filistinlilerin hayatı önemlidir.' söyleminde bulunsalar da İngiltere hükümeti, Filistinlileri önemsemiyor. görüşünü paylaştı. El-Nakla, İşçi Partisi lideri Keir Starmer'ı kendisini insan hakları avukatı olarak tanımlasa da Gazze'de ateşkes çağrısı yapmaması konusunda eleştirerek, Bir sonraki başbakan olmayı çok istiyor ama bunlar hangi tarafta yer aldığını gösteren siyasetteki önemli noktalardır. değerlendirmesinde bulundu. Anne ve babasının, gelinleri ve torunlarına destek için Türkiye'ye gittiğini anlatan El-Nakla, Annem Gazze'deyken 'Dünya, burada olanları görseydi yaşananlara engel olurdu' diye düşünüyormuş. Şimdi yaşananları izliyor ve kimse yardıma gitmiyor ifadesini kullandı. El-Nakla, Gazze'den çıkamayan kardeşinin ise acil servis doktoru olarak görevine devam ettiğini belirterek, şunları kaydetti: Onu rahatlatmak için söyleyecek hiçbir söz yok. Kur'an'daki 'Her zorlukla beraber bir de kolaylık vardır.' ayetini hatırlatıyorum ve kolaylığın yakın olduğunu söyledim. Bana, 'O ayeti günde 100 kere okuyorum.' dedi. Gerçekten çok yorgunlar ve hiç mola vermiyorlar. İskoçya Bölgesel Başbakanı Yusuf'un eşi ve Dundee'de belediye meclis üyesi olan El-Nakla'nın ailesi, Gazze'ye saldırılar başladığında bölgede bulunuyordu. El-Nakla'nın annesi Elizabeth ve babası Macid, saldırıların 28'inci gününde Refah Sınır Kapısı üzerinden Mısır'a geçerek Gazze'den ayrılabilmişti.</td>\n",
       "      <td>Dünya</td>\n",
       "    </tr>\n",
       "    <tr>\n",
       "      <th>4</th>\n",
       "      <td>Kadroda düşünülmedi, formayı kaptı, rekor bedelle gitti</td>\n",
       "      <td>Galatasaray'dan Almanya'nın dünyaca ünlü kulübü Bayern Münih'e giden Fransız futbolcu Sacha Boey'un 2,5 sezonluk Türkiye kariyeri, filmlere konu olabilecek gelişmelere sahne oldu.</td>\n",
       "      <td>Fransız ekibi Rennes'in altyapısında futbola başlayan 23 yaşındaki Kamerun asıllı Fransız futbolcu, bu takımda profesyonel olduktan sonra bir sezon Dijon'da kiralık olarak forma giydi. Galatasaray, savunmanın sağında görev yapan Boey'u 2021-2022 sezonu başında 1 milyon 150 bin euro karşılığında kadrosuna dahil etti ve 4 yıllık sözleşme imzaladı. Fransız futbolcu, bir lig şampiyonluğu yaşadığı sarı-kırmızılı takımdaki kariyerinde 83 resmi maçta görev yaptı ve 4 kez ağları havalandırdı.   Galatasaray'daki ilk sezonu sancılı geçti Sacha Boey'un Galatasaray'daki ilk sezonu istediği gibi geçmedi. Fransız futbolcu, teknik direktör Fatih Terim yönetimindeki sezona iyi başlamasına rağmen yaşadığı uyluk sakatlığı nedeniyle bir süre takımdan uzak kaldı. Sezon ortasında göreve gelen İspanyol teknik adam Domenec Torrent ise Sacha Boey'un performansını beğenmedi. İspanyol teknik adamın, görevinden ayrılırken hakkında olumsuz rapor bıraktığı sağ bek, kadroda düşünülmediği için ikinci sezon öncesindeki hazırlık kampına götürülmedi. Boey, Galatasaray'daki ilk sezonunda 19 resmi maçta görev yaptı ve bir gol attı.    Dönüm noktası Dubois'nın sakatlığı Sacha Boey'un Galatasaray kariyerindeki dönüm noktası, yerine transfer edilen vatandaşı Leo Dubois'nın yaşadığı sakatlık oldu. Sarı-kırmızılı takımda 2022-2023 sezonunda teknik direktörlük görevine getirilen Okan Buruk, Torrent'in raporu doğrultusunda Sacha Boey'u, sezon öncesinde Avusturya'da gerçekleştirilen kampa götürmedi. Kişisel antrenörüyle çalışmalarını sürdüren Fransız futbolcu, sezon başlamadan Leo Dubois'nın yaşadığı sakatlığın ardından kadroya dahil edildi. Dubois'nın yokluğunda sırtına geçirdiği formayı bir daha bırakmayan Boey, sergilediği başarılı performansla hem takımın vazgeçilmezi oldu hem de transferde ismi Avrupa'nın büyük kulüpleriyle anılmaya başlandı. Sacha Boey, sarı-kırmızılı takımdaki ikinci sezonunda 31'i Süper Lig ve 2'si Türkiye Kupası olmak üzere 33 maçta forma giydi ve bir kez topu filelerle buluşturdu.   Bu sezon performansını daha da yukarı taşıdı Bu sezonun başında Avrupa kulüplerinden gelen transfer tekliflerine rağmen takımda kalan Sacha Boey, performansını daha da yukarı çıkardı. Özellikle UEFA Şampiyonlar Ligi maçlarında ortaya koyduğu başarılı mücadeleyle dikkatleri daha da üzerine çeken Fransız futbolcu, yine transfer gündeminin bir numaralı ismi haline geldi. Sacha Boey, bu sezon tamamı ilk 11 olmak üzere 19 Süper Lig ve 12 Şampiyonlar Ligi maçında görev yaptı. Boey, bu 31 müsabakada 2 kez skor üretti. Türkiye'den en yüksek bonservisle giden futbolcu rekorunu kırdı Sacha Boey, Türkiye'den yurt dışına en yüksek bonservis bedeliyle giden futbolcu rekorunu kırdı. Bayern Münih, yapılan anlaşma çerçevesinde Galatasaray'a 30 milyon euro net ve 5 milyon euro tutarında şarta bağlı bonus ödeyecek. Alman kulübü, ayrıca iki takım arasında oynanacak iki hazırlık maçındaki gelirin yüzde 50'sini Galatasaray'a verecek. Türkiye'den daha önce yurt dışına en yüksek bonservis bedeliyle giden futbolcu Cenk Tosun olmuştu. Milli futbolcu, Beşiktaş'tan 22 milyon euro karşılığında İngiltere'nin Everton ekibine gitmişti.   En yüksek bedelle satılan futbolcular Türkiye'den yurt dışına en yüksek bedelle giden ilk 10 futbolcu şöyle: Not: Söz konusu bonservis bedellerine bonuslar dahil değildir.</td>\n",
       "      <td>Spor</td>\n",
       "    </tr>\n",
       "  </tbody>\n",
       "</table>\n",
       "</div>"
      ],
      "text/plain": [
       "                                                                                                 Baslik  \\\n",
       "0                                                  İstanbul'da çakar ve emniyet şeridi denetimi yapıldı   \n",
       "1                   İsrail basını: ABD ile Gazze'de çok uluslu güç oluşturulması için ilerleme sağlandı   \n",
       "2                                Josep Borrell'den İsrail'e tepki: Nereye tahliye edeceksiniz, Ay'a mı?   \n",
       "3  İskoçya Başbakanı'nın eşi, Gazze'deki aile üyelerinin Türkiye'nin yardımıyla kurtarıldığını açıkladı   \n",
       "4                                               Kadroda düşünülmedi, formayı kaptı, rekor bedelle gitti   \n",
       "\n",
       "                                                                                                                                                                                                                                     Ozet  \\\n",
       "0                                                                                                          İstanbul'da polis ekipleri, usulsüz çakar-siren tertibatı kullanımı ve emniyet şeridi ihlaline yönelik denetim gerçekleştirdi.   \n",
       "1                                                                                   İsrail Savunma Bakanı Yoav Gallant'ın, Gazze'de çok uluslu güç oluşturulması konusunda ABD'de yaptığı görüşmelerde ilerleme kaydedildiği öne sürüldü.   \n",
       "2  Avrupa Birliği (AB) Dış İlişkiler ve Güvenlik Politikası Yüksek Temsilcisi Josep Borrell, İsrail'in Gazze'ye yönelik saldırılarında yaşanan sivil kayıplara tepki gösteren ülkelere, İsrail'e silah ihracatını durdurma çağrısı yaptı.   \n",
       "3                         İskoçya Bölgesel Başbakanı Hamza Yusuf'un eşi Nadia El-Nakla, Gazze'deki kardeşinin eşi ve çocuklarının Türkiye tarafından bölgeden çıkarıldığını ve geçici koruma statüsüyle Türkiye'ye getirildiğini söyledi.   \n",
       "4                                                     Galatasaray'dan Almanya'nın dünyaca ünlü kulübü Bayern Münih'e giden Fransız futbolcu Sacha Boey'un 2,5 sezonluk Türkiye kariyeri, filmlere konu olabilecek gelişmelere sahne oldu.   \n",
       "\n",
       "                                                                                                                                                                                                                                                                                                                                                                                                                                                                                                                                                                                                                                                                                                                                                                                                                                                                                                                                                                                                                                                                                                                                                                                                                                                                                                                                                                                                                                                                                                                                                                                                                                                                                                                                                                                                                                                                                                                                                                                                                                                                                                                                                                                                                                                                                                                                                                                                                                                                                                                                                                                                                                                                                                                                                                                                                                                                                                                                                                                                                                                                                                                                                                                                                                                                                                                                                                                                                                                                                                                                                                                                                                                                                                                                                                                                                                                                                                                                                                                                                                                                                                                                                                                                                                                                                                                                                                                                                                                                                                                                                                                                                                                                                                                                                                                                                                                                                                                       Icerik  \\\n",
       "0                                                                                                                                                                                                                                                                                                                                                                                                                                                                                                                                                                                                                                                                                                                                                                                                                                                                                                                                                                                                                                                                                                                                                                                                                                                                                                                                                                                                                                                                                                                                                                                                                                                                                                                                                                                                                                                                                                                                                                                                                                                                                                                                                                                                                                                                                                                                                                                                                                                                                                                                                                                                                                                                                                                                                                                                                                                                                                                                                                                                                                                                                                                                                                                                                                                                                                                                                                                                                                                                                                                                                                                                                                                                                                                                                                                                                                                                                                                                                                                                                                                                                                                                                                                                                                                                                                                                                                                                                                          Trafik Denetleme Şube Müdürlüğü ekipleri, sivil trafik polislerinin de katılımıyla Üsküdar'da D-100 kara yolu Avrasya Tüneli istikametinde denetim noktası oluşturdu. Uygulamada, usulsüz çakar-siren tertibatı kullanan ve emniyet şeridi ihlali yapan araçlar denetlendi. Polis ekipleri, kontrol noktasında durdurulan araç sürücülerinin belgelerini inceledi. Denetim sırasında emniyet şeridi ihlali yaptığı belirlenen bir otomobil sürücüsüne 6 bin 440 lira ceza kesildi.   \n",
       "1                                                                                                                                                                                                                                                                                                                                                                                                                                                                                                                                                                                                                                                                                                                                                                                                                                                                                                                                                                                                                                                                                                                                                                                                                                                                                                                                                                                                                                                                                                                                                                                                                                                                                                                                                                                                                                                                                                                                                                                                                                                                                                                                                                                                                                                                                                                                                                                                                                                                                                                                                                                                                                                                                                                                                                                                                                                                                                                                                                                                                                                                                                                                                                                                                                                                                                                                                                                                                                                                                                                                                                                                                                                                                                                                                                                                                                                                                                                                                                                     İsrail'in Kanal 12 televizyonunun haberinde, Gallant'ın, geçen hafta Washington'a yaptığı ziyaret sırasında, ABD'li yetkililerle, bölgenin güvenliğinden ve insani yardım girişinden sorumlu olacak çok uluslu gücün Gazze'de görevlendirilmesi konusunda müzakerelerde bulunduğu iddia edildi. Gallant, bu görüşmelerde ilerleme kaydedildiğini İsrail Başbakanı Binyamin Netanyahu'ya iletti. ABD unsurlarını içerip içermeyeceği netlik kazanmayan çok uluslu gücün 3 Arap ülkesinden oluşacağı ifade edildi ancak bu ülkelerin adı verilmedi. Haberde, söz konusu çok uluslu güce ilişkin başka ayrıntı yer almadı. Amerikan haber sitesi Axios, 28 Mart'ta Gallant'ın, ABD'ye Gazze'de görevlendirilmek üzere çok uluslu güç oluşturma teklifinde bulunduğunu belirtilmişti. İsrail'in, söz konusu çok uluslu güçle, Hamas'ın savaş bittikten sonra Gazze'de yeniden kontrolü ele geçirmesine engel olmaya çalıştığı belirtiliyor.   \n",
       "2  Borrell, Birleşmiş Milletler Yakın Doğu'daki Filistinli Mültecilere Yardım ve Bayındırlık Ajansı (UNRWA) Genel Komiseri Philippe Lazzarini ve AB Dönem Başkanı Belçika'nın Kalkınma İşbirliği Bakanı Caroline Gennez, AB ülkelerinin kalkınma bakanlarının Brüksel'deki gayriresmi nitelikli toplantısının ardından ortak basın toplantısı düzenledi. UNRWA'ya desteğin sürmesine ilişkin AB üye ülkeleri arasında fikir ayrılıkları olduğunu kaydeden Borrell, İsim vermeyeceğim ancak bazı üye ülkeler 'desteğimi artıracağım' derken, bazıları 'desteğimi iptal edebilirim', bazıları da 'iptal etmeyeceğim ama açıklama yapılana kadar yardım etmeyeceğim' diyor. Ancak çoğunluğun Filistin halkını desteklemek için başka bir alternatif olmadığı gerçeğini anladığını düşünüyorum. dedi.   Borrell, İsrail hükümetinin UNRWA'yı kapatmaya yönelik siyasi iradesini gizlemediğini hatırlatarak, suçlamaları kanıtlaması gereken tarafın İsrail olduğunu ancak şimdiye kadar iddialara ilişkin herhangi bir kanıt iletilmediğini söyledi. (Refah'ta) İnsanları nereye tahliye edecekler, Ay'a mı? UNRWA'ya ilişkin karara varılmadan önce iddiaların kanıtlanması gerektiğini vurgulayan Borrell, (İddialar) Belki doğrudur, belki değildir ancak makul gibi görünen bu iddiaya insanların körü körüne inanmak zorunda kalması hukukun temel ilkelerine aykırıdır. Ve bizler her zaman hukukun üstünlüğü hakkında vaaz veren tarafız. Umuyorum ki bunu söylediğim için antisemitizmle suçlanmayacağım. eleştirisinde bulundu. Borrell, Gazze'de her geçen gün artarak devam eden sivil kayıplara tepki gösteren ülkelere çağrıda bulunarak, Eğer çok fazla insanın öldürüldüğüne inanıyorsanız, belki de bu kadar çok insanın öldürülmesini engellemek için (İsrail'e) daha az silah sağlamalısınız. Herkes Tel Aviv'e gidip yalvarıyor, 'Bunu yapmayın, sivilleri koruyun, bu kadar çok insanı öldürmeyin' diye. Ama (İsrail Başbakanı Binyamin) Netanyahu kimseyi dinlemiyor. dedi. İsrail’in Refah bölgesine saldırı planına ilişkin de konuşan Borrell, İnsanlar tahliye edilecekmiş. Nereye, Ay'a mı? Bu insanları nereye tahliye edecekler? Uluslararası toplum bunun çok fazla insanın hayatını kaybedeceği bir katliam olacağına inanıyor. Belki de (İsrail'e yaptıkları) silah tedarikini düşünmeleri gerekiyordur. Ülkeler 'Çok fazla insan öldürülüyor, lütfen insanlarla ilgilenin, lütfen bu kadar çok insan öldürmeyin' demeye devam ediyor. 'Lütfen' demeyi bırakın ve bir şeyler yapın. sözleriyle tepki gösterdi. Borrell, UNRWA'ya yönelik desteğin kesilmesinin risklerine ilişkin UNRWA'ya verilen desteğin kesilmesi, ihtiyaç sahibi milyonlarca insana verilen hayati hizmetlerin kesintiye uğraması ve Gazze'de daha büyük bir insani felaket anlamına gelecektir. değerlendirmesinde bulundu. Lazzarini, istifa etmeyeceğini söyledi UNRWA Genel Komiseri Lazzarini ise Refah'ta bir askeri operasyonun başlama ihtimalinden endişe duyduğunu söyleyerek, Hepimizin bildiği üzere, sivil halkın ödediği bedel tarif edilemez boyutlarda. Nüfusun yüzde 5'i ya öldürüldü ya yaralandı ya da kayıp ve bu sadece dört ay içinde oldu. dedi. Lazzarini, saldırılar nedeniyle Refah'ta faaliyet göstermenin her geçen gün zorlaştığını aktararak Dün ilk kez Birleşmiş Milletler (BM), yerel polisin sağladığı asgari koruma olmadığı için faaliyet gösteremedi. Yerel polis olmadığı için de sınırdaki konvoylarımız yağmalandı ve 100 kadar genç tarafından tahrip edildi. diye konuştu. Gazze'de güvenli bir yerin olmadığına dikkati çeken Lazzarini, Gazze Şeridi'nde güvenli bir yerin ne anlama geldiği konusunda hiçbir fikrim yok. Şu ana kadar 4 kez insanların bir yerden başka bir yere götürüldüğünü gördüm. Her seferinde onlara daha güvenli bir yer olduğu söylenen bir yere gitmeleri söylendi ve ardından gidilen yerin güvenli olmadığı kanıtlandı. Peki bu insanlar nereye gidecek? Bilmiyorum. ifadelerini kullandı. Lazzarini, İsrail'in iddialarının ardından yürütülen soruşturma ve eleştiriler nedeniyle istifa edip etmeyeceği sorusuna, İstifa etme niyetim yok. cevabını verdi. (Refah'ta) İnsanların gidecek hiçbir yeri yok AB Dönem Başkanı Belçika'nın Kalkınma İşbirliği Bakanı Gennez ise Refah bölgesine saldırı planına ilişkin Refah'ta mahsur kalan 1 milyondan fazla Filistinli, bizzat Başbakan'ın (Binyamin Netanyahu) emriyle gerçekleştireceği kara operasyonuyla karşı karşıya. Bu insanların gidecek hiçbir yeri yok. Geniş çaplı bir saldırı insani bir felakete, çok daha fazla ölüme ve çok daha fazla yaralıya yol açacaktır. ifadelerini kullandı. Netanyahu'nun açıklamasının, Uluslararası Adalet Divanının (UAD) İsrail'den sivil can kaybını önlemesini ve daha fazla insani yardım ulaştırılmasını sağlamasını isteyen ihtiyati tedbirleri uygulama kararından birkaç hafta sonra geldiğine işaret eden Gennez, ateşkes çağrısında bulundu.   \n",
       "3                                                                                                                                                                                                                                                                                                                                                                                                                                                                                                                                                                                                                                                                                                                                                                                                                                                                                                                                                                                                                                                                                                                                                                                                                                                                                                            Başbakan Yusuf'un eşi Nadia El-Nakla, The Guardian gazetesine verdiği mülakatta Gazze'deki kardeşinin eşi ve çocuklarını İngiltere'ye getirebilmek için hükümetten Ukraynalılara uyguladığı vizenin benzerini uygulamaya geçirmesini istedi. El-Nakla, Ukraynalılara uygulanan vize programı sayesinde birçok kişinin savaştan kurtulduğunu belirterek, Özellikle İngiltere'de aile üyeleri bulunan Gazzelilerin de aynı hakka sahip olması gerek. değerlendirmesinde bulundu. İsrail'in Gazze'deki saldırılarını soykırım olarak nitelendiren El-Nakla, İlk kez ders kitaplarında okuduğumuz soykırımı gerçek zamanlı görüyoruz ifadesini kullandı. Güvende oldukları için çok mutluyum El-Nakla, Kasım 2023'te Cumhurbaşkanı Recep Tayyip Erdoğan'ın eşi Emine Erdoğan'ın çağrısıyla toplanan ve ateşkes isteyen lider eşleri zirvesine katıldığını, Türkiye'nin geçici koruma statüsü vereceği Gazzeli aile üyelerinin listesini İsrail'e ilettiğini, kendi kardeşi ve ailesinin isimlerinin de bulunduğunu ancak İsrail'in daha sonra kardeşinin adını listeden sildiğini belirtti. Bu nedenle yalnızca yengesi ve 4 yeğeninin Gazze'den çıkarıldığını ve Türkiye'ye götürüldüğünü kaydeden El-Nakla, Güvende oldukları için çok mutluyum. Kardeşim, çocuklarını kurtardığımız için bize sürekli teşekkür ediyor ifadelerini kullandı. El-Nakla, aile üyelerini İskoçya'ya getirecek yöntemlerin eksikliğinden dolayı üzüntü duyduğunu belirterek, Kendi ülkemde ikinci sınıf vatandaş gibi hissediyorum çünkü kendi kardeşimi kendi evime getirme hakkım yok. Karşıdaki evde haklı olarak Ukraynalı aileyi ağırlayan insanlar var ama ben kendi kardeşimi ağırlayamıyorum ve bu, beni çok üzüyor. Burada doğdum, vergilerimi ödüyorum, topluma katkıda bulunuyorum ancak beni temsil etmesi gereken hükümet böyle bir iş yapıyor. değerlendirmesinde bulundu. O ayeti günde 100 kere okuyorum Bu yılın ikinci yarısında düzenlenecek seçimlerde seçmenlerin değerlendirme yaparken partilerin Gazze tutumunu göz önünde bulundurmaları gerektiğini kaydeden El-Nakla, İngiliz siyasetinin ABD dış politikasını takip ettiğini öne sürdü ve Her ne kadar mecliste 'Filistinlilerin hayatı önemlidir.' söyleminde bulunsalar da İngiltere hükümeti, Filistinlileri önemsemiyor. görüşünü paylaştı. El-Nakla, İşçi Partisi lideri Keir Starmer'ı kendisini insan hakları avukatı olarak tanımlasa da Gazze'de ateşkes çağrısı yapmaması konusunda eleştirerek, Bir sonraki başbakan olmayı çok istiyor ama bunlar hangi tarafta yer aldığını gösteren siyasetteki önemli noktalardır. değerlendirmesinde bulundu. Anne ve babasının, gelinleri ve torunlarına destek için Türkiye'ye gittiğini anlatan El-Nakla, Annem Gazze'deyken 'Dünya, burada olanları görseydi yaşananlara engel olurdu' diye düşünüyormuş. Şimdi yaşananları izliyor ve kimse yardıma gitmiyor ifadesini kullandı. El-Nakla, Gazze'den çıkamayan kardeşinin ise acil servis doktoru olarak görevine devam ettiğini belirterek, şunları kaydetti: Onu rahatlatmak için söyleyecek hiçbir söz yok. Kur'an'daki 'Her zorlukla beraber bir de kolaylık vardır.' ayetini hatırlatıyorum ve kolaylığın yakın olduğunu söyledim. Bana, 'O ayeti günde 100 kere okuyorum.' dedi. Gerçekten çok yorgunlar ve hiç mola vermiyorlar. İskoçya Bölgesel Başbakanı Yusuf'un eşi ve Dundee'de belediye meclis üyesi olan El-Nakla'nın ailesi, Gazze'ye saldırılar başladığında bölgede bulunuyordu. El-Nakla'nın annesi Elizabeth ve babası Macid, saldırıların 28'inci gününde Refah Sınır Kapısı üzerinden Mısır'a geçerek Gazze'den ayrılabilmişti.   \n",
       "4                                                                                                                                                                                                                                                                                                                                                                                                                                                                                                                                                                                                                                                                                                                                                                                                                                                                                                                                                                                                                                                                                                                                                                                                                                                                                                                                                                                                                                                                                           Fransız ekibi Rennes'in altyapısında futbola başlayan 23 yaşındaki Kamerun asıllı Fransız futbolcu, bu takımda profesyonel olduktan sonra bir sezon Dijon'da kiralık olarak forma giydi. Galatasaray, savunmanın sağında görev yapan Boey'u 2021-2022 sezonu başında 1 milyon 150 bin euro karşılığında kadrosuna dahil etti ve 4 yıllık sözleşme imzaladı. Fransız futbolcu, bir lig şampiyonluğu yaşadığı sarı-kırmızılı takımdaki kariyerinde 83 resmi maçta görev yaptı ve 4 kez ağları havalandırdı.   Galatasaray'daki ilk sezonu sancılı geçti Sacha Boey'un Galatasaray'daki ilk sezonu istediği gibi geçmedi. Fransız futbolcu, teknik direktör Fatih Terim yönetimindeki sezona iyi başlamasına rağmen yaşadığı uyluk sakatlığı nedeniyle bir süre takımdan uzak kaldı. Sezon ortasında göreve gelen İspanyol teknik adam Domenec Torrent ise Sacha Boey'un performansını beğenmedi. İspanyol teknik adamın, görevinden ayrılırken hakkında olumsuz rapor bıraktığı sağ bek, kadroda düşünülmediği için ikinci sezon öncesindeki hazırlık kampına götürülmedi. Boey, Galatasaray'daki ilk sezonunda 19 resmi maçta görev yaptı ve bir gol attı.    Dönüm noktası Dubois'nın sakatlığı Sacha Boey'un Galatasaray kariyerindeki dönüm noktası, yerine transfer edilen vatandaşı Leo Dubois'nın yaşadığı sakatlık oldu. Sarı-kırmızılı takımda 2022-2023 sezonunda teknik direktörlük görevine getirilen Okan Buruk, Torrent'in raporu doğrultusunda Sacha Boey'u, sezon öncesinde Avusturya'da gerçekleştirilen kampa götürmedi. Kişisel antrenörüyle çalışmalarını sürdüren Fransız futbolcu, sezon başlamadan Leo Dubois'nın yaşadığı sakatlığın ardından kadroya dahil edildi. Dubois'nın yokluğunda sırtına geçirdiği formayı bir daha bırakmayan Boey, sergilediği başarılı performansla hem takımın vazgeçilmezi oldu hem de transferde ismi Avrupa'nın büyük kulüpleriyle anılmaya başlandı. Sacha Boey, sarı-kırmızılı takımdaki ikinci sezonunda 31'i Süper Lig ve 2'si Türkiye Kupası olmak üzere 33 maçta forma giydi ve bir kez topu filelerle buluşturdu.   Bu sezon performansını daha da yukarı taşıdı Bu sezonun başında Avrupa kulüplerinden gelen transfer tekliflerine rağmen takımda kalan Sacha Boey, performansını daha da yukarı çıkardı. Özellikle UEFA Şampiyonlar Ligi maçlarında ortaya koyduğu başarılı mücadeleyle dikkatleri daha da üzerine çeken Fransız futbolcu, yine transfer gündeminin bir numaralı ismi haline geldi. Sacha Boey, bu sezon tamamı ilk 11 olmak üzere 19 Süper Lig ve 12 Şampiyonlar Ligi maçında görev yaptı. Boey, bu 31 müsabakada 2 kez skor üretti. Türkiye'den en yüksek bonservisle giden futbolcu rekorunu kırdı Sacha Boey, Türkiye'den yurt dışına en yüksek bonservis bedeliyle giden futbolcu rekorunu kırdı. Bayern Münih, yapılan anlaşma çerçevesinde Galatasaray'a 30 milyon euro net ve 5 milyon euro tutarında şarta bağlı bonus ödeyecek. Alman kulübü, ayrıca iki takım arasında oynanacak iki hazırlık maçındaki gelirin yüzde 50'sini Galatasaray'a verecek. Türkiye'den daha önce yurt dışına en yüksek bonservis bedeliyle giden futbolcu Cenk Tosun olmuştu. Milli futbolcu, Beşiktaş'tan 22 milyon euro karşılığında İngiltere'nin Everton ekibine gitmişti.   En yüksek bedelle satılan futbolcular Türkiye'den yurt dışına en yüksek bedelle giden ilk 10 futbolcu şöyle: Not: Söz konusu bonservis bedellerine bonuslar dahil değildir.   \n",
       "\n",
       "  Kategori  \n",
       "0  Türkiye  \n",
       "1    Dünya  \n",
       "2    Dünya  \n",
       "3    Dünya  \n",
       "4     Spor  "
      ]
     },
     "execution_count": 13,
     "metadata": {},
     "output_type": "execute_result"
    }
   ],
   "source": [
    "df_tr_news_data.head(5)"
   ]
  },
  {
   "cell_type": "code",
   "execution_count": 14,
   "id": "be94766e-e5b8-4719-b642-0d0636bfcf72",
   "metadata": {},
   "outputs": [
    {
     "data": {
      "text/plain": [
       "(7500, 4)"
      ]
     },
     "execution_count": 14,
     "metadata": {},
     "output_type": "execute_result"
    }
   ],
   "source": [
    "df_tr_news_data.shape"
   ]
  },
  {
   "cell_type": "code",
   "execution_count": 15,
   "id": "42ddceb2-9672-4743-86da-63a90791e4c6",
   "metadata": {},
   "outputs": [],
   "source": [
    "df_tr_news_data[\"OzetLength\"] = df_tr_news_data[\"Ozet\"].apply(len)\n",
    "df_tr_news_data[\"OzetWordCount\"] = df_tr_news_data['Ozet'].str.split().str.len()"
   ]
  },
  {
   "cell_type": "code",
   "execution_count": 16,
   "id": "83ecb84b-203a-41b2-9796-c3e997c7b297",
   "metadata": {
    "tags": []
   },
   "outputs": [
    {
     "data": {
      "text/html": [
       "<div>\n",
       "<style scoped>\n",
       "    .dataframe tbody tr th:only-of-type {\n",
       "        vertical-align: middle;\n",
       "    }\n",
       "\n",
       "    .dataframe tbody tr th {\n",
       "        vertical-align: top;\n",
       "    }\n",
       "\n",
       "    .dataframe thead th {\n",
       "        text-align: right;\n",
       "    }\n",
       "</style>\n",
       "<table border=\"1\" class=\"dataframe\">\n",
       "  <thead>\n",
       "    <tr style=\"text-align: right;\">\n",
       "      <th></th>\n",
       "      <th>count</th>\n",
       "      <th>mean</th>\n",
       "      <th>std</th>\n",
       "      <th>min</th>\n",
       "      <th>50%</th>\n",
       "      <th>80%</th>\n",
       "      <th>85%</th>\n",
       "      <th>90%</th>\n",
       "      <th>95%</th>\n",
       "      <th>99%</th>\n",
       "      <th>max</th>\n",
       "    </tr>\n",
       "  </thead>\n",
       "  <tbody>\n",
       "    <tr>\n",
       "      <th>OzetWordCount</th>\n",
       "      <td>7500.0</td>\n",
       "      <td>21.491467</td>\n",
       "      <td>8.134327</td>\n",
       "      <td>5.0</td>\n",
       "      <td>20.0</td>\n",
       "      <td>28.0</td>\n",
       "      <td>30.0</td>\n",
       "      <td>33.0</td>\n",
       "      <td>37.0</td>\n",
       "      <td>44.0</td>\n",
       "      <td>51.0</td>\n",
       "    </tr>\n",
       "  </tbody>\n",
       "</table>\n",
       "</div>"
      ],
      "text/plain": [
       "                count       mean       std  min   50%   80%   85%   90%   95%  \\\n",
       "OzetWordCount  7500.0  21.491467  8.134327  5.0  20.0  28.0  30.0  33.0  37.0   \n",
       "\n",
       "                99%   max  \n",
       "OzetWordCount  44.0  51.0  "
      ]
     },
     "execution_count": 16,
     "metadata": {},
     "output_type": "execute_result"
    }
   ],
   "source": [
    "df_tr_news_data[[\"OzetWordCount\"]].describe(percentiles=[0.80,0.85,0.90,0.95,0.99]).T"
   ]
  },
  {
   "cell_type": "code",
   "execution_count": 17,
   "id": "ed2bd57e-8e11-4509-bc3a-2e82ca1fb4a4",
   "metadata": {},
   "outputs": [
    {
     "data": {
      "text/html": [
       "<div>\n",
       "<style scoped>\n",
       "    .dataframe tbody tr th:only-of-type {\n",
       "        vertical-align: middle;\n",
       "    }\n",
       "\n",
       "    .dataframe tbody tr th {\n",
       "        vertical-align: top;\n",
       "    }\n",
       "\n",
       "    .dataframe thead th {\n",
       "        text-align: right;\n",
       "    }\n",
       "</style>\n",
       "<table border=\"1\" class=\"dataframe\">\n",
       "  <thead>\n",
       "    <tr style=\"text-align: right;\">\n",
       "      <th></th>\n",
       "      <th>Baslik</th>\n",
       "      <th>Ozet</th>\n",
       "      <th>Icerik</th>\n",
       "      <th>Kategori</th>\n",
       "      <th>OzetLength</th>\n",
       "      <th>OzetWordCount</th>\n",
       "    </tr>\n",
       "  </thead>\n",
       "  <tbody>\n",
       "    <tr>\n",
       "      <th>6567</th>\n",
       "      <td>Doğu Akdeniz için sağanak uyarısı</td>\n",
       "      <td>Doğu Akdeniz'de sağanak uyarısında bulunuldu.</td>\n",
       "      <td>Meteoroloji Genel Müdürlüğünden yapılan açıklamaya göre, Doğu Akdeniz'de yağışların, bu akşamdan itibaren yarın sabaha kadar Osmaniye ve Hatay çevreleri ile Adana'nın doğu ve Kahramanmaraş'ın güney kesimlerinde yerel kuvvetli gök gürültülü sağanak şeklinde düşmesi bekleniyor. Vatandaşların, ani sel, su baskını, yıldırım, ulaşımda aksama gibi olumsuzluklara karşı dikkatli olması gerekiyor.</td>\n",
       "      <td>Türkiye</td>\n",
       "      <td>45</td>\n",
       "      <td>5</td>\n",
       "    </tr>\n",
       "  </tbody>\n",
       "</table>\n",
       "</div>"
      ],
      "text/plain": [
       "                                 Baslik  \\\n",
       "6567  Doğu Akdeniz için sağanak uyarısı   \n",
       "\n",
       "                                               Ozet  \\\n",
       "6567  Doğu Akdeniz'de sağanak uyarısında bulunuldu.   \n",
       "\n",
       "                                                                                                                                                                                                                                                                                                                                                                                                       Icerik  \\\n",
       "6567  Meteoroloji Genel Müdürlüğünden yapılan açıklamaya göre, Doğu Akdeniz'de yağışların, bu akşamdan itibaren yarın sabaha kadar Osmaniye ve Hatay çevreleri ile Adana'nın doğu ve Kahramanmaraş'ın güney kesimlerinde yerel kuvvetli gök gürültülü sağanak şeklinde düşmesi bekleniyor. Vatandaşların, ani sel, su baskını, yıldırım, ulaşımda aksama gibi olumsuzluklara karşı dikkatli olması gerekiyor.   \n",
       "\n",
       "     Kategori  OzetLength  OzetWordCount  \n",
       "6567  Türkiye          45              5  "
      ]
     },
     "execution_count": 17,
     "metadata": {},
     "output_type": "execute_result"
    }
   ],
   "source": [
    "df_tr_news_data[df_tr_news_data['OzetWordCount']==5]"
   ]
  },
  {
   "cell_type": "code",
   "execution_count": 18,
   "id": "47f3fdfc-c8c0-4884-89be-015585ecbb93",
   "metadata": {},
   "outputs": [
    {
     "data": {
      "text/html": [
       "<div>\n",
       "<style scoped>\n",
       "    .dataframe tbody tr th:only-of-type {\n",
       "        vertical-align: middle;\n",
       "    }\n",
       "\n",
       "    .dataframe tbody tr th {\n",
       "        vertical-align: top;\n",
       "    }\n",
       "\n",
       "    .dataframe thead th {\n",
       "        text-align: right;\n",
       "    }\n",
       "</style>\n",
       "<table border=\"1\" class=\"dataframe\">\n",
       "  <thead>\n",
       "    <tr style=\"text-align: right;\">\n",
       "      <th></th>\n",
       "      <th>Kategori</th>\n",
       "      <th>OzetWordCount_Mean</th>\n",
       "      <th>OzetLength_Mean</th>\n",
       "    </tr>\n",
       "  </thead>\n",
       "  <tbody>\n",
       "    <tr>\n",
       "      <th>0</th>\n",
       "      <td>Dünya</td>\n",
       "      <td>21.986667</td>\n",
       "      <td>179.368000</td>\n",
       "    </tr>\n",
       "    <tr>\n",
       "      <th>1</th>\n",
       "      <td>Eğitim</td>\n",
       "      <td>23.092000</td>\n",
       "      <td>183.160667</td>\n",
       "    </tr>\n",
       "    <tr>\n",
       "      <th>2</th>\n",
       "      <td>Gündem</td>\n",
       "      <td>25.961333</td>\n",
       "      <td>205.670667</td>\n",
       "    </tr>\n",
       "    <tr>\n",
       "      <th>3</th>\n",
       "      <td>Spor</td>\n",
       "      <td>18.909333</td>\n",
       "      <td>147.216000</td>\n",
       "    </tr>\n",
       "    <tr>\n",
       "      <th>4</th>\n",
       "      <td>Türkiye</td>\n",
       "      <td>17.508000</td>\n",
       "      <td>138.000667</td>\n",
       "    </tr>\n",
       "  </tbody>\n",
       "</table>\n",
       "</div>"
      ],
      "text/plain": [
       "  Kategori  OzetWordCount_Mean  OzetLength_Mean\n",
       "0    Dünya           21.986667       179.368000\n",
       "1   Eğitim           23.092000       183.160667\n",
       "2   Gündem           25.961333       205.670667\n",
       "3     Spor           18.909333       147.216000\n",
       "4  Türkiye           17.508000       138.000667"
      ]
     },
     "execution_count": 18,
     "metadata": {},
     "output_type": "execute_result"
    }
   ],
   "source": [
    "df_tr_news_data.groupby(by=['Kategori'], as_index=False).agg(OzetWordCount_Mean=('OzetWordCount','mean'),\n",
    "                                                                  OzetLength_Mean=('OzetLength','mean'))"
   ]
  },
  {
   "cell_type": "markdown",
   "id": "fb58e5f9-5331-4345-aab1-bf057c391c10",
   "metadata": {},
   "source": [
    "### Embedding"
   ]
  },
  {
   "cell_type": "code",
   "execution_count": 19,
   "id": "09e8ee1a-a729-4612-8292-9f712811ac8d",
   "metadata": {},
   "outputs": [
    {
     "data": {
      "text/html": [
       "<div>\n",
       "<style scoped>\n",
       "    .dataframe tbody tr th:only-of-type {\n",
       "        vertical-align: middle;\n",
       "    }\n",
       "\n",
       "    .dataframe tbody tr th {\n",
       "        vertical-align: top;\n",
       "    }\n",
       "\n",
       "    .dataframe thead th {\n",
       "        text-align: right;\n",
       "    }\n",
       "</style>\n",
       "<table border=\"1\" class=\"dataframe\">\n",
       "  <thead>\n",
       "    <tr style=\"text-align: right;\">\n",
       "      <th></th>\n",
       "      <th>Ozet</th>\n",
       "      <th>Kategori</th>\n",
       "    </tr>\n",
       "  </thead>\n",
       "  <tbody>\n",
       "    <tr>\n",
       "      <th>0</th>\n",
       "      <td>İstanbul'da polis ekipleri, usulsüz çakar-siren tertibatı kullanımı ve emniyet şeridi ihlaline yönelik denetim gerçekleştirdi.</td>\n",
       "      <td>Türkiye</td>\n",
       "    </tr>\n",
       "    <tr>\n",
       "      <th>1</th>\n",
       "      <td>İsrail Savunma Bakanı Yoav Gallant'ın, Gazze'de çok uluslu güç oluşturulması konusunda ABD'de yaptığı görüşmelerde ilerleme kaydedildiği öne sürüldü.</td>\n",
       "      <td>Dünya</td>\n",
       "    </tr>\n",
       "    <tr>\n",
       "      <th>2</th>\n",
       "      <td>Avrupa Birliği (AB) Dış İlişkiler ve Güvenlik Politikası Yüksek Temsilcisi Josep Borrell, İsrail'in Gazze'ye yönelik saldırılarında yaşanan sivil kayıplara tepki gösteren ülkelere, İsrail'e silah ihracatını durdurma çağrısı yaptı.</td>\n",
       "      <td>Dünya</td>\n",
       "    </tr>\n",
       "    <tr>\n",
       "      <th>3</th>\n",
       "      <td>İskoçya Bölgesel Başbakanı Hamza Yusuf'un eşi Nadia El-Nakla, Gazze'deki kardeşinin eşi ve çocuklarının Türkiye tarafından bölgeden çıkarıldığını ve geçici koruma statüsüyle Türkiye'ye getirildiğini söyledi.</td>\n",
       "      <td>Dünya</td>\n",
       "    </tr>\n",
       "    <tr>\n",
       "      <th>4</th>\n",
       "      <td>Galatasaray'dan Almanya'nın dünyaca ünlü kulübü Bayern Münih'e giden Fransız futbolcu Sacha Boey'un 2,5 sezonluk Türkiye kariyeri, filmlere konu olabilecek gelişmelere sahne oldu.</td>\n",
       "      <td>Spor</td>\n",
       "    </tr>\n",
       "    <tr>\n",
       "      <th>5</th>\n",
       "      <td>İsrail Genelkurmay Başkanı Herzi Halevi, abluka altındaki Gazze Şeridi’ne yönelik saldırıların devamı için gerekli planları onayladıklarını açıkladı.</td>\n",
       "      <td>Dünya</td>\n",
       "    </tr>\n",
       "    <tr>\n",
       "      <th>6</th>\n",
       "      <td>Beşiktaş Kulübü, 2023-2024 futbol sezonu ikinci transfer ve tescil döneminde kadrosuna kattığı futbolcular için imza töreni düzenledi.</td>\n",
       "      <td>Spor</td>\n",
       "    </tr>\n",
       "    <tr>\n",
       "      <th>7</th>\n",
       "      <td>Yarın yapılacak Mahalli İdareler Genel Seçimleri'ne ilişkin siyasi partilerin propaganda serbestliği saat 18.00'de sona erdi.</td>\n",
       "      <td>Gündem</td>\n",
       "    </tr>\n",
       "    <tr>\n",
       "      <th>8</th>\n",
       "      <td>Ukrayna Devlet Başkanı Volodimir Zelenskiy, Kırım Tatar Türk halkının lideri Mustafa Abdülcemil Kırımoğlu'na \"Ukrayna Kahramanı\" unvanı ile devlet nişanı takdim etti.</td>\n",
       "      <td>Dünya</td>\n",
       "    </tr>\n",
       "    <tr>\n",
       "      <th>9</th>\n",
       "      <td>İspanya Meclisi, ülkede büyük siyasi tartışmalara neden olan, ayrılıkçı Katalanlara af getirilmesini öngören yasa tasarısının, yasal süreçle ilerleyip Meclis'te görüşülmesine onay verdi.</td>\n",
       "      <td>Dünya</td>\n",
       "    </tr>\n",
       "  </tbody>\n",
       "</table>\n",
       "</div>"
      ],
      "text/plain": [
       "                                                                                                                                                                                                                                     Ozet  \\\n",
       "0                                                                                                          İstanbul'da polis ekipleri, usulsüz çakar-siren tertibatı kullanımı ve emniyet şeridi ihlaline yönelik denetim gerçekleştirdi.   \n",
       "1                                                                                   İsrail Savunma Bakanı Yoav Gallant'ın, Gazze'de çok uluslu güç oluşturulması konusunda ABD'de yaptığı görüşmelerde ilerleme kaydedildiği öne sürüldü.   \n",
       "2  Avrupa Birliği (AB) Dış İlişkiler ve Güvenlik Politikası Yüksek Temsilcisi Josep Borrell, İsrail'in Gazze'ye yönelik saldırılarında yaşanan sivil kayıplara tepki gösteren ülkelere, İsrail'e silah ihracatını durdurma çağrısı yaptı.   \n",
       "3                         İskoçya Bölgesel Başbakanı Hamza Yusuf'un eşi Nadia El-Nakla, Gazze'deki kardeşinin eşi ve çocuklarının Türkiye tarafından bölgeden çıkarıldığını ve geçici koruma statüsüyle Türkiye'ye getirildiğini söyledi.   \n",
       "4                                                     Galatasaray'dan Almanya'nın dünyaca ünlü kulübü Bayern Münih'e giden Fransız futbolcu Sacha Boey'un 2,5 sezonluk Türkiye kariyeri, filmlere konu olabilecek gelişmelere sahne oldu.   \n",
       "5                                                                                   İsrail Genelkurmay Başkanı Herzi Halevi, abluka altındaki Gazze Şeridi’ne yönelik saldırıların devamı için gerekli planları onayladıklarını açıkladı.   \n",
       "6                                                                                                  Beşiktaş Kulübü, 2023-2024 futbol sezonu ikinci transfer ve tescil döneminde kadrosuna kattığı futbolcular için imza töreni düzenledi.   \n",
       "7                                                                                                           Yarın yapılacak Mahalli İdareler Genel Seçimleri'ne ilişkin siyasi partilerin propaganda serbestliği saat 18.00'de sona erdi.   \n",
       "8                                                                  Ukrayna Devlet Başkanı Volodimir Zelenskiy, Kırım Tatar Türk halkının lideri Mustafa Abdülcemil Kırımoğlu'na \"Ukrayna Kahramanı\" unvanı ile devlet nişanı takdim etti.   \n",
       "9                                              İspanya Meclisi, ülkede büyük siyasi tartışmalara neden olan, ayrılıkçı Katalanlara af getirilmesini öngören yasa tasarısının, yasal süreçle ilerleyip Meclis'te görüşülmesine onay verdi.   \n",
       "\n",
       "  Kategori  \n",
       "0  Türkiye  \n",
       "1    Dünya  \n",
       "2    Dünya  \n",
       "3    Dünya  \n",
       "4     Spor  \n",
       "5    Dünya  \n",
       "6     Spor  \n",
       "7   Gündem  \n",
       "8    Dünya  \n",
       "9    Dünya  "
      ]
     },
     "execution_count": 19,
     "metadata": {},
     "output_type": "execute_result"
    }
   ],
   "source": [
    "df = df_tr_news_data[['Ozet', 'Kategori']]\n",
    "df[0:10]"
   ]
  },
  {
   "cell_type": "code",
   "execution_count": 20,
   "id": "70701fba-b17e-4afa-9235-bff7938063c1",
   "metadata": {},
   "outputs": [],
   "source": [
    "from sentence_transformers import SentenceTransformer\n",
    "\n",
    "embedding_model = [\n",
    "    'sentence-transformers/all-MiniLM-L12-v2',\n",
    "    \"jinaai/jina-embeddings-v3\",\n",
    "    \"intfloat/multilingual-e5-large-instruct\",\n",
    "    \"BAAI/bge-m3\",\n",
    "    \"thenlper/gte-large\"\n",
    "]"
   ]
  },
  {
   "cell_type": "code",
   "execution_count": 25,
   "id": "96bb1a21-5914-44d5-b339-d9dc20e404a1",
   "metadata": {},
   "outputs": [
    {
     "name": "stdout",
     "output_type": "stream",
     "text": [
      "Embedding Model Name: sentence-transformers/all-MiniLM-L12-v2 - 2024-11-28 00:31:45.519195 \n",
      "Embedding Dimension: 384\n",
      "Embedding Duration: 0:03:50.669247\n",
      "- - - - - - - - - - - - - - - \n",
      "Embedding Model Name: jinaai/jina-embeddings-v3 - 2024-11-28 00:35:36.188442 \n"
     ]
    },
    {
     "name": "stderr",
     "output_type": "stream",
     "text": [
      "\n",
      "KeyboardInterrupt\n",
      "\n"
     ]
    }
   ],
   "source": [
    "for model_name in embedding_model:\n",
    "    try:\n",
    "        embedding_duration = datetime.now()\n",
    "        print(f\"Embedding Model Name: {model_name} - {datetime.now()} \")\n",
    "        model = SentenceTransformer(model_name, trust_remote_code=True)\n",
    "        model_output_file = os.path.join(EMBEDDING_DATA_PATH, f\"{\"news_\" + model_name.replace('/', '__')}_embeddings.csv.gz\")\n",
    "        embeddings = model.encode(df['Ozet'].tolist())\n",
    "        embedding_dim = len(embeddings[0])\n",
    "        print(f\"Embedding Dimension: {embedding_dim}\")\n",
    "        embedding_columns = [f'embedding_{i}' for i in range(embedding_dim)]\n",
    "        df_embedding = pd.DataFrame(embeddings, columns=embedding_columns)\n",
    "        df_data = pd.concat([df, df_embedding], axis=1)\n",
    "        df_data.to_csv(model_output_file, compression='gzip', index=False)\n",
    "        print(f\"Embedding Duration: {datetime.now() - embedding_duration}\")\n",
    "        print(\"- \" * 15)\n",
    "    except Exception as exc:\n",
    "        print(\"Exception: \", exc)\n",
    "        print(\"X \" * 15)"
   ]
  },
  {
   "cell_type": "code",
   "execution_count": null,
   "id": "4976d8e0-3997-45b2-bf8e-1baee2713ede",
   "metadata": {},
   "outputs": [],
   "source": [
    "# from tqdm import tqdm\n",
    "\n",
    "# # Batch Processing\n",
    "# batch_size = 5\n",
    "\n",
    "# for model_name in embedding_model:\n",
    "#     try:\n",
    "#         embeddings = []       \n",
    "#         embedding_duration = datetime.now()\n",
    "#         print(f\"Embedding Model Name: {model_name} - {datetime.now()} \")\n",
    "#         model = SentenceTransformer(model_name, trust_remote_code=True)\n",
    "#         model_output_file = os.path.join(EMBEDDING_DATA_PATH, f\"{\"news_\" + model_name.replace('/', '__')}_embeddings.csv.gz\")\n",
    "\n",
    "#         # for i in tqdm(range(0, len(df), batch_size)):\n",
    "#         for i in range(0, len(df), batch_size):\n",
    "#             # embeddings = model.encode(df['Ozet'][0:5].tolist())\n",
    "#             batch = df[\"Ozet\"][i:i + batch_size].tolist()\n",
    "#             batch_embeddings = model.encode(batch)\n",
    "#             embeddings.extend(batch_embeddings)\n",
    "\n",
    "#         embedding_dim = len(embeddings[0])\n",
    "#         print(f\"Embedding Dimension: {embedding_dim}\")\n",
    "#         embedding_columns = [f'embedding_{i}' for i in range(embedding_dim)]\n",
    "#         df_embedding = pd.DataFrame(embeddings, columns=embedding_columns)\n",
    "#         df_data = pd.concat([df[0:5], df_embedding], axis=1)\n",
    "#         df_data.to_csv(model_output_file, compression='gzip', index=False)\n",
    "#         print(f\"Embedding Duration: {datetime.now() - embedding_duration}\")\n",
    "#         print(\"- \" * 15)\n",
    "#     except Exception as exc:\n",
    "#         print(\"Exception: \", exc)"
   ]
  },
  {
   "cell_type": "code",
   "execution_count": null,
   "id": "1f86cedd-2866-4541-8881-a8c5194d912c",
   "metadata": {},
   "outputs": [],
   "source": []
  },
  {
   "cell_type": "code",
   "execution_count": 10,
   "id": "9e8e9d5d-1bc7-4ab2-95bc-090b1949e80a",
   "metadata": {},
   "outputs": [
    {
     "name": "stdout",
     "output_type": "stream",
     "text": [
      "Emb. File Name:news_BAAI__bge-m3_embeddings.csv.gz & Shape: (7500, 1026)\n",
      "Empty DataFrame\n",
      "Columns: [Ozet, Kategori, embedding_0, embedding_1, embedding_2, embedding_3, embedding_4, embedding_5, embedding_6, embedding_7, embedding_8, embedding_9, embedding_10, embedding_11, embedding_12, embedding_13, embedding_14, embedding_15, embedding_16, embedding_17, embedding_18, embedding_19, embedding_20, embedding_21, embedding_22, embedding_23, embedding_24, embedding_25, embedding_26, embedding_27, embedding_28, embedding_29, embedding_30, embedding_31, embedding_32, embedding_33, embedding_34, embedding_35, embedding_36, embedding_37, embedding_38, embedding_39, embedding_40, embedding_41, embedding_42, embedding_43, embedding_44, embedding_45, embedding_46, embedding_47, embedding_48, embedding_49, embedding_50, embedding_51, embedding_52, embedding_53, embedding_54, embedding_55, embedding_56, embedding_57, embedding_58, embedding_59, embedding_60, embedding_61, embedding_62, embedding_63, embedding_64, embedding_65, embedding_66, embedding_67, embedding_68, embedding_69, embedding_70, embedding_71, embedding_72, embedding_73, embedding_74, embedding_75, embedding_76, embedding_77, embedding_78, embedding_79, embedding_80, embedding_81, embedding_82, embedding_83, embedding_84, embedding_85, embedding_86, embedding_87, embedding_88, embedding_89, embedding_90, embedding_91, embedding_92, embedding_93, embedding_94, embedding_95, embedding_96, embedding_97, ...]\n",
      "Index: []\n",
      "+ + + + + + + + + + + + + + + + + + + + + + + + + \n",
      "Emb. File Name:news_intfloat__multilingual-e5-large-instruct_embeddings.csv.gz & Shape: (7500, 1026)\n",
      "Empty DataFrame\n",
      "Columns: [Ozet, Kategori, embedding_0, embedding_1, embedding_2, embedding_3, embedding_4, embedding_5, embedding_6, embedding_7, embedding_8, embedding_9, embedding_10, embedding_11, embedding_12, embedding_13, embedding_14, embedding_15, embedding_16, embedding_17, embedding_18, embedding_19, embedding_20, embedding_21, embedding_22, embedding_23, embedding_24, embedding_25, embedding_26, embedding_27, embedding_28, embedding_29, embedding_30, embedding_31, embedding_32, embedding_33, embedding_34, embedding_35, embedding_36, embedding_37, embedding_38, embedding_39, embedding_40, embedding_41, embedding_42, embedding_43, embedding_44, embedding_45, embedding_46, embedding_47, embedding_48, embedding_49, embedding_50, embedding_51, embedding_52, embedding_53, embedding_54, embedding_55, embedding_56, embedding_57, embedding_58, embedding_59, embedding_60, embedding_61, embedding_62, embedding_63, embedding_64, embedding_65, embedding_66, embedding_67, embedding_68, embedding_69, embedding_70, embedding_71, embedding_72, embedding_73, embedding_74, embedding_75, embedding_76, embedding_77, embedding_78, embedding_79, embedding_80, embedding_81, embedding_82, embedding_83, embedding_84, embedding_85, embedding_86, embedding_87, embedding_88, embedding_89, embedding_90, embedding_91, embedding_92, embedding_93, embedding_94, embedding_95, embedding_96, embedding_97, ...]\n",
      "Index: []\n",
      "+ + + + + + + + + + + + + + + + + + + + + + + + + \n",
      "Emb. File Name:news_jinaai__jina-embeddings-v3_embeddings.csv.gz & Shape: (7500, 1026)\n",
      "Empty DataFrame\n",
      "Columns: [Ozet, Kategori, embedding_0, embedding_1, embedding_2, embedding_3, embedding_4, embedding_5, embedding_6, embedding_7, embedding_8, embedding_9, embedding_10, embedding_11, embedding_12, embedding_13, embedding_14, embedding_15, embedding_16, embedding_17, embedding_18, embedding_19, embedding_20, embedding_21, embedding_22, embedding_23, embedding_24, embedding_25, embedding_26, embedding_27, embedding_28, embedding_29, embedding_30, embedding_31, embedding_32, embedding_33, embedding_34, embedding_35, embedding_36, embedding_37, embedding_38, embedding_39, embedding_40, embedding_41, embedding_42, embedding_43, embedding_44, embedding_45, embedding_46, embedding_47, embedding_48, embedding_49, embedding_50, embedding_51, embedding_52, embedding_53, embedding_54, embedding_55, embedding_56, embedding_57, embedding_58, embedding_59, embedding_60, embedding_61, embedding_62, embedding_63, embedding_64, embedding_65, embedding_66, embedding_67, embedding_68, embedding_69, embedding_70, embedding_71, embedding_72, embedding_73, embedding_74, embedding_75, embedding_76, embedding_77, embedding_78, embedding_79, embedding_80, embedding_81, embedding_82, embedding_83, embedding_84, embedding_85, embedding_86, embedding_87, embedding_88, embedding_89, embedding_90, embedding_91, embedding_92, embedding_93, embedding_94, embedding_95, embedding_96, embedding_97, ...]\n",
      "Index: []\n",
      "+ + + + + + + + + + + + + + + + + + + + + + + + + \n",
      "Emb. File Name:news_sentence-transformers__all-MiniLM-L12-v2_embeddings.csv.gz & Shape: (7500, 386)\n",
      "Empty DataFrame\n",
      "Columns: [Ozet, Kategori, embedding_0, embedding_1, embedding_2, embedding_3, embedding_4, embedding_5, embedding_6, embedding_7, embedding_8, embedding_9, embedding_10, embedding_11, embedding_12, embedding_13, embedding_14, embedding_15, embedding_16, embedding_17, embedding_18, embedding_19, embedding_20, embedding_21, embedding_22, embedding_23, embedding_24, embedding_25, embedding_26, embedding_27, embedding_28, embedding_29, embedding_30, embedding_31, embedding_32, embedding_33, embedding_34, embedding_35, embedding_36, embedding_37, embedding_38, embedding_39, embedding_40, embedding_41, embedding_42, embedding_43, embedding_44, embedding_45, embedding_46, embedding_47, embedding_48, embedding_49, embedding_50, embedding_51, embedding_52, embedding_53, embedding_54, embedding_55, embedding_56, embedding_57, embedding_58, embedding_59, embedding_60, embedding_61, embedding_62, embedding_63, embedding_64, embedding_65, embedding_66, embedding_67, embedding_68, embedding_69, embedding_70, embedding_71, embedding_72, embedding_73, embedding_74, embedding_75, embedding_76, embedding_77, embedding_78, embedding_79, embedding_80, embedding_81, embedding_82, embedding_83, embedding_84, embedding_85, embedding_86, embedding_87, embedding_88, embedding_89, embedding_90, embedding_91, embedding_92, embedding_93, embedding_94, embedding_95, embedding_96, embedding_97, ...]\n",
      "Index: []\n",
      "+ + + + + + + + + + + + + + + + + + + + + + + + + \n",
      "Emb. File Name:news_thenlper__gte-large_embeddings.csv.gz & Shape: (7500, 1026)\n",
      "Empty DataFrame\n",
      "Columns: [Ozet, Kategori, embedding_0, embedding_1, embedding_2, embedding_3, embedding_4, embedding_5, embedding_6, embedding_7, embedding_8, embedding_9, embedding_10, embedding_11, embedding_12, embedding_13, embedding_14, embedding_15, embedding_16, embedding_17, embedding_18, embedding_19, embedding_20, embedding_21, embedding_22, embedding_23, embedding_24, embedding_25, embedding_26, embedding_27, embedding_28, embedding_29, embedding_30, embedding_31, embedding_32, embedding_33, embedding_34, embedding_35, embedding_36, embedding_37, embedding_38, embedding_39, embedding_40, embedding_41, embedding_42, embedding_43, embedding_44, embedding_45, embedding_46, embedding_47, embedding_48, embedding_49, embedding_50, embedding_51, embedding_52, embedding_53, embedding_54, embedding_55, embedding_56, embedding_57, embedding_58, embedding_59, embedding_60, embedding_61, embedding_62, embedding_63, embedding_64, embedding_65, embedding_66, embedding_67, embedding_68, embedding_69, embedding_70, embedding_71, embedding_72, embedding_73, embedding_74, embedding_75, embedding_76, embedding_77, embedding_78, embedding_79, embedding_80, embedding_81, embedding_82, embedding_83, embedding_84, embedding_85, embedding_86, embedding_87, embedding_88, embedding_89, embedding_90, embedding_91, embedding_92, embedding_93, embedding_94, embedding_95, embedding_96, embedding_97, ...]\n",
      "Index: []\n",
      "+ + + + + + + + + + + + + + + + + + + + + + + + + \n"
     ]
    }
   ],
   "source": [
    "for f in os.listdir(\"data\\embedding\"):\n",
    "    # print(f)\n",
    "    if f.split(\"_\")[0] == \"news\":\n",
    "        df_emb_data = pd.read_csv(os.path.join(EMBEDDING_DATA_PATH, f), compression='gzip')\n",
    "        print(f\"Emb. File Name:{f} & Shape: {df_emb_data.shape}\")\n",
    "        print(df_emb_data.head(0))\n",
    "        print(\"+ \" * 25)"
   ]
  },
  {
   "cell_type": "code",
   "execution_count": null,
   "id": "5f74fdfc-5e69-43aa-80c3-2e7fb4afd083",
   "metadata": {},
   "outputs": [],
   "source": []
  },
  {
   "cell_type": "code",
   "execution_count": null,
   "id": "bbbe68d2-3e1e-4a1c-a06b-5ea5e4023759",
   "metadata": {},
   "outputs": [],
   "source": []
  }
 ],
 "metadata": {
  "kernelspec": {
   "display_name": "Python 3 (ipykernel)",
   "language": "python",
   "name": "python3"
  },
  "language_info": {
   "codemirror_mode": {
    "name": "ipython",
    "version": 3
   },
   "file_extension": ".py",
   "mimetype": "text/x-python",
   "name": "python",
   "nbconvert_exporter": "python",
   "pygments_lexer": "ipython3",
   "version": "3.12.7"
  }
 },
 "nbformat": 4,
 "nbformat_minor": 5
}
