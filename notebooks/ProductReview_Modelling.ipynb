{
 "cells": [
  {
   "cell_type": "markdown",
   "id": "d21e7379-d4ad-4caa-a420-b520ca497092",
   "metadata": {},
   "source": [
    "## Turkish Product Reviews"
   ]
  },
  {
   "cell_type": "markdown",
   "id": "d3a6bf7e-8672-4b27-82a1-694eb8763303",
   "metadata": {},
   "source": [
    "### Dataset Preprocessing"
   ]
  },
  {
   "cell_type": "code",
   "execution_count": 1,
   "id": "be92b39c-1b96-439f-8d08-4ee800c80468",
   "metadata": {},
   "outputs": [
    {
     "name": "stderr",
     "output_type": "stream",
     "text": [
      "C:\\Users\\adem\\miniconda3\\envs\\py_env_312\\Lib\\site-packages\\tqdm\\auto.py:21: TqdmWarning: IProgress not found. Please update jupyter and ipywidgets. See https://ipywidgets.readthedocs.io/en/stable/user_install.html\n",
      "  from .autonotebook import tqdm as notebook_tqdm\n"
     ]
    }
   ],
   "source": [
    "import os\n",
    "import pandas as pd\n",
    "import numpy as np\n",
    "from datasets import load_dataset\n",
    "\n",
    "from src.utils import get_project_config\n",
    "from src.utils import missing_values\n",
    "import time\n",
    "from datetime import datetime\n",
    "import warnings\n",
    "\n",
    "# import matplotlib.pyplot as plt\n",
    "# import seaborn"
   ]
  },
  {
   "cell_type": "code",
   "execution_count": 2,
   "id": "410252ed-db6e-40ea-9ddb-be70bd1df5f4",
   "metadata": {},
   "outputs": [],
   "source": [
    "pd.set_option('display.max_columns', None)\n",
    "pd.set_option('max_colwidth', None)\n",
    "\n",
    "warnings.filterwarnings('ignore')"
   ]
  },
  {
   "cell_type": "markdown",
   "id": "5875a9a5-bd19-4159-9d45-2de9457530f7",
   "metadata": {},
   "source": [
    "#### Set Path and Constant Values"
   ]
  },
  {
   "cell_type": "code",
   "execution_count": 3,
   "id": "927269b6-729b-4029-8e28-c28aaf180960",
   "metadata": {},
   "outputs": [],
   "source": [
    "# Set Constants\n",
    "ROOT_PATH = os.getcwd()\n",
    "CFG_PATH = os.path.join(ROOT_PATH, 'cfg')\n",
    "DATA_PATH = os.path.join(ROOT_PATH, 'data')\n",
    "RAW_DATA_PATH = os.path.join(DATA_PATH, 'raw')\n",
    "EMBEDDING_DATA_PATH = os.path.join(DATA_PATH, 'embedding')\n",
    "\n",
    "os.makedirs(RAW_DATA_PATH, exist_ok=True)\n",
    "# os.makedirs(EMBEDDING_DATA_PATH, exist_ok=True)"
   ]
  },
  {
   "cell_type": "markdown",
   "id": "2af04432-dce9-474c-84ad-0090d26e0e1b",
   "metadata": {},
   "source": [
    "### Import Dataset: HepsiBurada Product Reviews"
   ]
  },
  {
   "cell_type": "code",
   "execution_count": null,
   "id": "bc8262af-4a08-49cf-abc9-1dc8aff76950",
   "metadata": {},
   "outputs": [],
   "source": [
    "df_emb_data_1 = pd.read_csv(os.path.join(EMBEDDING_DATA_PATH, \"hb_sentence-transformers__all-MiniLM-L12-v2_embeddings.csv.gz\"), compression='gzip')\n",
    "df_emb_data_1"
   ]
  },
  {
   "cell_type": "code",
   "execution_count": null,
   "id": "c547e2a2-6429-4772-a45a-1d0c4192f3a4",
   "metadata": {},
   "outputs": [],
   "source": [
    "df_emb_data_2 = pd.read_csv(os.path.join(EMBEDDING_DATA_PATH, \"hb_jinaai__jina-embeddings-v3_embeddings.csv.gz\"), compression='gzip')\n",
    "df_emb_data_2"
   ]
  },
  {
   "cell_type": "code",
   "execution_count": null,
   "id": "75a17666-3b95-4f3c-bfe5-91ed73989fb6",
   "metadata": {},
   "outputs": [],
   "source": [
    "df_emb_data_3 = pd.read_csv(os.path.join(EMBEDDING_DATA_PATH, \"hb_jinaai__jina-embeddings-v3_embeddings.csv.gz\"), compression='gzip')\n",
    "df_emb_data_3"
   ]
  },
  {
   "cell_type": "code",
   "execution_count": null,
   "id": "9c1288e8-d572-4aaf-9a97-216f5f25a401",
   "metadata": {},
   "outputs": [],
   "source": [
    "df_emb_data_4 = pd.read_csv(os.path.join(EMBEDDING_DATA_PATH, \"hb_jinaai__jina-embeddings-v3_embeddings.csv.gz\"), compression='gzip')\n",
    "df_emb_data_4"
   ]
  },
  {
   "cell_type": "code",
   "execution_count": null,
   "id": "feaecb34-d349-49fb-91d5-305cac158179",
   "metadata": {},
   "outputs": [],
   "source": [
    "df_emb_data_5 = pd.read_csv(os.path.join(EMBEDDING_DATA_PATH, \"hb_jinaai__jina-embeddings-v3_embeddings.csv.gz\"), compression='gzip')\n",
    "df_emb_data_5"
   ]
  }
 ],
 "metadata": {
  "kernelspec": {
   "display_name": "Python 3 (ipykernel)",
   "language": "python",
   "name": "python3"
  },
  "language_info": {
   "codemirror_mode": {
    "name": "ipython",
    "version": 3
   },
   "file_extension": ".py",
   "mimetype": "text/x-python",
   "name": "python",
   "nbconvert_exporter": "python",
   "pygments_lexer": "ipython3",
   "version": "3.12.7"
  }
 },
 "nbformat": 4,
 "nbformat_minor": 5
}
