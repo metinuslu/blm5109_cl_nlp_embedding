{
 "cells": [
  {
   "cell_type": "markdown",
   "id": "3d63f8d7-8cc9-4473-88dd-fc3b0e10ec5c",
   "metadata": {},
   "source": [
    "## Turkish Product Reviews"
   ]
  },
  {
   "cell_type": "markdown",
   "id": "41f29147-546d-4c44-ab4e-f30aee32138f",
   "metadata": {},
   "source": [
    "### Dataset Preprocessing"
   ]
  },
  {
   "cell_type": "code",
   "execution_count": null,
   "id": "81b4059f-f0d9-4d6b-9b20-5a3a26f51932",
   "metadata": {},
   "outputs": [],
   "source": [
    "import os\n",
    "import pandas as pd\n",
    "import numpy as np\n",
    "from datasets import load_dataset\n",
    "\n",
    "from src.utils import get_project_config\n",
    "from src.utils import missing_values\n",
    "import time\n",
    "from datetime import datetime\n",
    "import warnings\n",
    "\n",
    "# import matplotlib.pyplot as plt\n",
    "# import seaborn"
   ]
  },
  {
   "cell_type": "code",
   "execution_count": null,
   "id": "e29b7b66-819d-4e25-9797-1dab14adf6e6",
   "metadata": {},
   "outputs": [],
   "source": [
    "pd.set_option('display.max_columns', None)\n",
    "pd.set_option('max_colwidth', None)\n",
    "\n",
    "warnings.filterwarnings('ignore')"
   ]
  },
  {
   "cell_type": "markdown",
   "id": "c810a5ef-9d42-4fe2-b082-3d70134d265a",
   "metadata": {},
   "source": [
    "#### Set Path and Constant Values"
   ]
  },
  {
   "cell_type": "code",
   "execution_count": null,
   "id": "ba1dee44-3cc8-4c8f-b284-4a89a0c0062a",
   "metadata": {},
   "outputs": [],
   "source": [
    "# Set Constants\n",
    "ROOT_PATH = os.getcwd()\n",
    "CFG_PATH = os.path.join(ROOT_PATH, 'cfg')\n",
    "DATA_PATH = os.path.join(ROOT_PATH, 'data')\n",
    "RAW_DATA_PATH = os.path.join(DATA_PATH, 'raw')\n",
    "EMBEDDING_DATA_PATH = os.path.join(DATA_PATH, 'embedding')\n",
    "\n",
    "os.makedirs(RAW_DATA_PATH, exist_ok=True)\n",
    "os.makedirs(EMBEDDING_DATA_PATH, exist_ok=True)"
   ]
  },
  {
   "cell_type": "markdown",
   "id": "c6d0d10f-e47a-4d2a-b410-0b48dab68997",
   "metadata": {},
   "source": [
    "### Import Dataset: HepsiBurada Product Reviews"
   ]
  },
  {
   "cell_type": "code",
   "execution_count": null,
   "id": "ab7c8410-4304-491e-b406-2f6c0aa751d7",
   "metadata": {},
   "outputs": [],
   "source": [
    "df_hb_data_all = pd.read_parquet(\"hf://datasets/fthbrmnby/turkish_product_reviews/data/train-00000-of-00001.parquet\")\n",
    "df_hb_data_all.to_csv(os.path.join(RAW_DATA_PATH, \"hb_tr_product_reviews.csv.gz\"), index=False, compression='gzip')\n",
    "# dataset = load_dataset(\"fthbrmnby/turkish_product_reviews\", split=\"train\")\n",
    "# df_hb_data_all = dataset.to_pandas()\n",
    "\n",
    "df_hb_data_all.head()"
   ]
  },
  {
   "cell_type": "markdown",
   "id": "775a5a1b-d62d-4cfd-89ce-153b787dd70f",
   "metadata": {},
   "source": [
    "### Show Metadata, Shape, Statistics and Missing Table"
   ]
  },
  {
   "cell_type": "code",
   "execution_count": null,
   "id": "06bb3f68-041f-4af3-9db3-d411e52c8ff4",
   "metadata": {
    "tags": []
   },
   "outputs": [],
   "source": [
    "df_hb_data_all.info()"
   ]
  },
  {
   "cell_type": "code",
   "execution_count": null,
   "id": "da911c15-c29d-4351-83fe-056d4db7e311",
   "metadata": {
    "tags": []
   },
   "outputs": [],
   "source": [
    "df_hb_data_all.shape"
   ]
  },
  {
   "cell_type": "code",
   "execution_count": null,
   "id": "08b720ff-be20-40cd-a794-c47cc3db4ba3",
   "metadata": {
    "tags": []
   },
   "outputs": [],
   "source": [
    "df_hb_data_all['sentiment'].value_counts(normalize=True)"
   ]
  },
  {
   "cell_type": "code",
   "execution_count": null,
   "id": "314455c4-ea78-4556-974d-f03372cb3365",
   "metadata": {
    "tags": []
   },
   "outputs": [],
   "source": [
    "missing_values(df=df_hb_data_all, threshold=0, asc_sorting=False)"
   ]
  },
  {
   "cell_type": "code",
   "execution_count": null,
   "id": "b2d4d11d-76ea-4e25-838f-90e09ad338af",
   "metadata": {},
   "outputs": [],
   "source": [
    "df_hb_data_all.head(5)"
   ]
  },
  {
   "cell_type": "markdown",
   "id": "746f1128-d86f-40e6-b484-d2cca992ba80",
   "metadata": {},
   "source": [
    "### Split Data"
   ]
  },
  {
   "cell_type": "code",
   "execution_count": null,
   "id": "c6152fe5-c3a0-4b67-8f1b-a095e030e14c",
   "metadata": {},
   "outputs": [],
   "source": [
    "# Neden Yapıyoruz\n",
    "# 1- Balanced Dataset\n",
    "# 2- Computing Power"
   ]
  },
  {
   "cell_type": "code",
   "execution_count": null,
   "id": "cbb229b7-c266-4734-ab56-469658003918",
   "metadata": {},
   "outputs": [],
   "source": [
    "df_hb_data_1 = df_hb_data_all[df_hb_data_all['sentiment'] == 1].sample(n=3750, random_state=34)\n",
    "\n",
    "df_hb_data_0 = df_hb_data_all[df_hb_data_all['sentiment'] == 0].sample(n=3750, random_state=34)\n",
    "\n",
    "df_hb_data_balanced = pd.concat([df_hb_data_1, df_hb_data_0])\n",
    "\n",
    "df_hb_data = df_hb_data_balanced.sample(frac=1, random_state=34).reset_index(drop=True)\n",
    "\n",
    "# Sınıf dağılımını kontrol edin\n",
    "print(df_hb_data['sentiment'].value_counts())"
   ]
  },
  {
   "cell_type": "code",
   "execution_count": null,
   "id": "42ddceb2-9672-4743-86da-63a90791e4c6",
   "metadata": {},
   "outputs": [],
   "source": [
    "df_hb_data[\"sentenceLength\"] = df_hb_data[\"sentence\"].apply(len)\n",
    "df_hb_data[\"sentenceWordCount\"] = df_hb_data['sentence'].str.split().str.len()"
   ]
  },
  {
   "cell_type": "code",
   "execution_count": null,
   "id": "fe988983-57c5-484d-bbd0-e54865030a88",
   "metadata": {},
   "outputs": [],
   "source": [
    "df_hb_data.head(10)"
   ]
  },
  {
   "cell_type": "code",
   "execution_count": null,
   "id": "83ecb84b-203a-41b2-9796-c3e997c7b297",
   "metadata": {
    "tags": []
   },
   "outputs": [],
   "source": [
    "df_hb_data[[\"sentenceWordCount\"]].describe(percentiles=[0.80,0.85,0.90,0.95,0.99]).T"
   ]
  },
  {
   "cell_type": "code",
   "execution_count": null,
   "id": "47f3fdfc-c8c0-4884-89be-015585ecbb93",
   "metadata": {},
   "outputs": [],
   "source": [
    "df_hb_data.groupby(by=['sentiment'], as_index=False).agg(SentimentWordCount_Mean=('sentenceWordCount','mean'),\n",
    "                                                         SentimentLength_Mean=('sentenceLength','mean'))"
   ]
  },
  {
   "cell_type": "markdown",
   "id": "fb58e5f9-5331-4345-aab1-bf057c391c10",
   "metadata": {},
   "source": [
    "### Embedding"
   ]
  },
  {
   "cell_type": "code",
   "execution_count": null,
   "id": "09e8ee1a-a729-4612-8292-9f712811ac8d",
   "metadata": {},
   "outputs": [],
   "source": [
    "df = df_hb_data[['sentence', 'sentiment']]\n",
    "df[0:5]"
   ]
  },
  {
   "cell_type": "code",
   "execution_count": null,
   "id": "70701fba-b17e-4afa-9235-bff7938063c1",
   "metadata": {},
   "outputs": [],
   "source": [
    "from sentence_transformers import SentenceTransformer\n",
    "\n",
    "embedding_model = [\n",
    "    'sentence-transformers/all-MiniLM-L12-v2',\n",
    "    \"jinaai/jina-embeddings-v3\",\n",
    "    \"intfloat/multilingual-e5-large-instruct\",\n",
    "    \"BAAI/bge-m3\",\n",
    "    \"thenlper/gte-large\"\n",
    "]"
   ]
  },
  {
   "cell_type": "code",
   "execution_count": null,
   "id": "96bb1a21-5914-44d5-b339-d9dc20e404a1",
   "metadata": {},
   "outputs": [],
   "source": [
    "for model_name in embedding_model:\n",
    "    try:\n",
    "        embedding_duration = datetime.now()\n",
    "        print(f\"Embedding Model Name: {model_name} - {datetime.now()} \")\n",
    "        model = SentenceTransformer(model_name, trust_remote_code=True)\n",
    "        model_output_file = os.path.join(EMBEDDING_DATA_PATH, f\"{\"hb_\" + model_name.replace('/', '__')}_embeddings.csv.gz\")\n",
    "        embeddings = model.encode(df['sentence'][0:5].tolist())\n",
    "        embedding_dim = len(embeddings[0])\n",
    "        print(f\"Embedding Dimension: {embedding_dim}\")\n",
    "        embedding_columns = [f'embedding_{i}' for i in range(embedding_dim)]\n",
    "        df_embedding = pd.DataFrame(embeddings, columns=embedding_columns)\n",
    "        df_data = pd.concat([df[0:5], df_embedding], axis=1)\n",
    "        df_data.to_csv(model_output_file, compression='gzip', index=False)\n",
    "        print(f\"Embedding Duration: {datetime.now() - embedding_duration}\")\n",
    "        print(\"- \" * 15)\n",
    "    except Exception as exc:\n",
    "        print(\"Exception: \", exc)"
   ]
  },
  {
   "cell_type": "code",
   "execution_count": null,
   "id": "2b4a8908-427a-4092-832c-867191a3b030",
   "metadata": {},
   "outputs": [],
   "source": [
    "df_emb_data_1 = pd.read_csv(os.path.join(EMBEDDING_DATA_PATH, \"hb_sentence-transformers__all-MiniLM-L12-v2_embeddings.csv.gz\"), compression='gzip')\n",
    "df_emb_data_1\n",
    "\n",
    "df_emb_data_2 = pd.read_csv(os.path.join(EMBEDDING_DATA_PATH, \"hb_jinaai__jina-embeddings-v3_embeddings.csv.gz\"), compression='gzip')\n",
    "df_emb_data_2"
   ]
  },
  {
   "cell_type": "code",
   "execution_count": null,
   "id": "ce344bd2-d4fa-45b7-9d5d-862ff8626875",
   "metadata": {},
   "outputs": [],
   "source": []
  },
  {
   "cell_type": "code",
   "execution_count": null,
   "id": "51481b13-a371-4ebd-91f0-cfff6c5aee31",
   "metadata": {},
   "outputs": [],
   "source": []
  }
 ],
 "metadata": {
  "kernelspec": {
   "display_name": "Python 3 (ipykernel)",
   "language": "python",
   "name": "python3"
  },
  "language_info": {
   "codemirror_mode": {
    "name": "ipython",
    "version": 3
   },
   "file_extension": ".py",
   "mimetype": "text/x-python",
   "name": "python",
   "nbconvert_exporter": "python",
   "pygments_lexer": "ipython3",
   "version": "3.12.7"
  }
 },
 "nbformat": 4,
 "nbformat_minor": 5
}
